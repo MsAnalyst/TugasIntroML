{
  "metadata": {
    "kernelspec": {
      "language": "python",
      "display_name": "Python 3",
      "name": "python3"
    },
    "language_info": {
      "name": "python",
      "version": "3.7.12",
      "mimetype": "text/x-python",
      "codemirror_mode": {
        "name": "ipython",
        "version": 3
      },
      "pygments_lexer": "ipython3",
      "nbconvert_exporter": "python",
      "file_extension": ".py"
    },
    "colab": {
      "provenance": [],
      "toc_visible": true,
      "include_colab_link": true
    }
  },
  "nbformat_minor": 0,
  "nbformat": 4,
  "cells": [
    {
      "cell_type": "markdown",
      "metadata": {
        "id": "view-in-github",
        "colab_type": "text"
      },
      "source": [
        "<a href=\"https://colab.research.google.com/github/MsAnalyst/TugasIntroML/blob/main/Dewi_I4Zs_IntroML_Final_Project_Chronic_Kidney_Disease.ipynb\" target=\"_parent\"><img src=\"https://colab.research.google.com/assets/colab-badge.svg\" alt=\"Open In Colab\"/></a>"
      ]
    },
    {
      "cell_type": "markdown",
      "source": [
        "## I. Import library"
      ],
      "metadata": {
        "id": "hU0wGKBW8oVw"
      }
    },
    {
      "cell_type": "code",
      "source": [
        "# mounting drive\n",
        "\n",
        "from google.colab import drive\n",
        "drive.mount('/content/drive')"
      ],
      "metadata": {
        "colab": {
          "base_uri": "https://localhost:8080/"
        },
        "id": "rDjO8Tko884I",
        "outputId": "0e263eec-f3b9-40f0-c23c-1734a96b8f59"
      },
      "execution_count": null,
      "outputs": [
        {
          "output_type": "stream",
          "name": "stdout",
          "text": [
            "Mounted at /content/drive\n"
          ]
        }
      ]
    },
    {
      "cell_type": "code",
      "source": [
        "# necessary imports \n",
        "import pandas as pd\n",
        "import numpy as np\n",
        "import matplotlib.pyplot as plt\n",
        "import seaborn as sns\n",
        "import plotly.express as px\n",
        "from sklearn.metrics import accuracy_score # akurasi\n",
        "from sklearn.metrics import classification_report # report model\n",
        "from sklearn.model_selection import train_test_split # pembagian data train dan test\n",
        "import warnings\n",
        "warnings.filterwarnings('ignore')\n",
        "\n",
        "plt.style.use('fivethirtyeight')\n",
        "%matplotlib inline\n",
        "pd.set_option('display.max_columns', 26) #display dataframe dengan jumlah kolom ditentukan"
      ],
      "metadata": {
        "execution": {
          "iopub.status.busy": "2023-01-04T12:14:49.780470Z",
          "iopub.execute_input": "2023-01-04T12:14:49.780877Z",
          "iopub.status.idle": "2023-01-04T12:14:49.793007Z",
          "shell.execute_reply.started": "2023-01-04T12:14:49.780829Z",
          "shell.execute_reply": "2023-01-04T12:14:49.792207Z"
        },
        "trusted": true,
        "id": "-7MUTZe_8oVw"
      },
      "execution_count": null,
      "outputs": []
    },
    {
      "cell_type": "markdown",
      "source": [
        "## II. Loading Dataset"
      ],
      "metadata": {
        "id": "64LGW8d28oVx"
      }
    },
    {
      "cell_type": "code",
      "source": [
        "df=pd.read_csv('/content/drive/MyDrive/DATA PACMANN/INTRO TO ML I/Final Project Intro ML Dewi_I4Zs/kidney_disease.csv')"
      ],
      "metadata": {
        "execution": {
          "iopub.status.busy": "2023-01-04T12:14:49.795871Z",
          "iopub.execute_input": "2023-01-04T12:14:49.796426Z",
          "iopub.status.idle": "2023-01-04T12:14:49.811053Z",
          "shell.execute_reply.started": "2023-01-04T12:14:49.796399Z",
          "shell.execute_reply": "2023-01-04T12:14:49.810231Z"
        },
        "trusted": true,
        "id": "QCRflssc8oVy"
      },
      "execution_count": null,
      "outputs": []
    },
    {
      "cell_type": "code",
      "source": [
        "# show top 5 data\n",
        "\n",
        "df.head()"
      ],
      "metadata": {
        "execution": {
          "iopub.status.busy": "2023-01-04T12:14:49.812389Z",
          "iopub.execute_input": "2023-01-04T12:14:49.812882Z",
          "iopub.status.idle": "2023-01-04T12:14:49.847929Z",
          "shell.execute_reply.started": "2023-01-04T12:14:49.812846Z",
          "shell.execute_reply": "2023-01-04T12:14:49.847279Z"
        },
        "trusted": true,
        "colab": {
          "base_uri": "https://localhost:8080/",
          "height": 270
        },
        "id": "WbsEBZwx8oVy",
        "outputId": "2323f10f-61e0-4e02-a7ca-4ce038ace2d3"
      },
      "execution_count": null,
      "outputs": [
        {
          "output_type": "execute_result",
          "data": {
            "text/plain": [
              "   id   age    bp     sg   al   su     rbc        pc         pcc          ba  \\\n",
              "0   0  48.0  80.0  1.020  1.0  0.0     NaN    normal  notpresent  notpresent   \n",
              "1   1   7.0  50.0  1.020  4.0  0.0     NaN    normal  notpresent  notpresent   \n",
              "2   2  62.0  80.0  1.010  2.0  3.0  normal    normal  notpresent  notpresent   \n",
              "3   3  48.0  70.0  1.005  4.0  0.0  normal  abnormal     present  notpresent   \n",
              "4   4  51.0  80.0  1.010  2.0  0.0  normal    normal  notpresent  notpresent   \n",
              "\n",
              "     bgr    bu   sc    sod  pot  hemo pcv    wc   rc  htn   dm cad appet   pe  \\\n",
              "0  121.0  36.0  1.2    NaN  NaN  15.4  44  7800  5.2  yes  yes  no  good   no   \n",
              "1    NaN  18.0  0.8    NaN  NaN  11.3  38  6000  NaN   no   no  no  good   no   \n",
              "2  423.0  53.0  1.8    NaN  NaN   9.6  31  7500  NaN   no  yes  no  poor   no   \n",
              "3  117.0  56.0  3.8  111.0  2.5  11.2  32  6700  3.9  yes   no  no  poor  yes   \n",
              "4  106.0  26.0  1.4    NaN  NaN  11.6  35  7300  4.6   no   no  no  good   no   \n",
              "\n",
              "   ane classification  \n",
              "0   no            ckd  \n",
              "1   no            ckd  \n",
              "2  yes            ckd  \n",
              "3  yes            ckd  \n",
              "4   no            ckd  "
            ],
            "text/html": [
              "\n",
              "  <div id=\"df-a068866b-a748-4687-91f7-e69465e5a7ff\">\n",
              "    <div class=\"colab-df-container\">\n",
              "      <div>\n",
              "<style scoped>\n",
              "    .dataframe tbody tr th:only-of-type {\n",
              "        vertical-align: middle;\n",
              "    }\n",
              "\n",
              "    .dataframe tbody tr th {\n",
              "        vertical-align: top;\n",
              "    }\n",
              "\n",
              "    .dataframe thead th {\n",
              "        text-align: right;\n",
              "    }\n",
              "</style>\n",
              "<table border=\"1\" class=\"dataframe\">\n",
              "  <thead>\n",
              "    <tr style=\"text-align: right;\">\n",
              "      <th></th>\n",
              "      <th>id</th>\n",
              "      <th>age</th>\n",
              "      <th>bp</th>\n",
              "      <th>sg</th>\n",
              "      <th>al</th>\n",
              "      <th>su</th>\n",
              "      <th>rbc</th>\n",
              "      <th>pc</th>\n",
              "      <th>pcc</th>\n",
              "      <th>ba</th>\n",
              "      <th>bgr</th>\n",
              "      <th>bu</th>\n",
              "      <th>sc</th>\n",
              "      <th>sod</th>\n",
              "      <th>pot</th>\n",
              "      <th>hemo</th>\n",
              "      <th>pcv</th>\n",
              "      <th>wc</th>\n",
              "      <th>rc</th>\n",
              "      <th>htn</th>\n",
              "      <th>dm</th>\n",
              "      <th>cad</th>\n",
              "      <th>appet</th>\n",
              "      <th>pe</th>\n",
              "      <th>ane</th>\n",
              "      <th>classification</th>\n",
              "    </tr>\n",
              "  </thead>\n",
              "  <tbody>\n",
              "    <tr>\n",
              "      <th>0</th>\n",
              "      <td>0</td>\n",
              "      <td>48.0</td>\n",
              "      <td>80.0</td>\n",
              "      <td>1.020</td>\n",
              "      <td>1.0</td>\n",
              "      <td>0.0</td>\n",
              "      <td>NaN</td>\n",
              "      <td>normal</td>\n",
              "      <td>notpresent</td>\n",
              "      <td>notpresent</td>\n",
              "      <td>121.0</td>\n",
              "      <td>36.0</td>\n",
              "      <td>1.2</td>\n",
              "      <td>NaN</td>\n",
              "      <td>NaN</td>\n",
              "      <td>15.4</td>\n",
              "      <td>44</td>\n",
              "      <td>7800</td>\n",
              "      <td>5.2</td>\n",
              "      <td>yes</td>\n",
              "      <td>yes</td>\n",
              "      <td>no</td>\n",
              "      <td>good</td>\n",
              "      <td>no</td>\n",
              "      <td>no</td>\n",
              "      <td>ckd</td>\n",
              "    </tr>\n",
              "    <tr>\n",
              "      <th>1</th>\n",
              "      <td>1</td>\n",
              "      <td>7.0</td>\n",
              "      <td>50.0</td>\n",
              "      <td>1.020</td>\n",
              "      <td>4.0</td>\n",
              "      <td>0.0</td>\n",
              "      <td>NaN</td>\n",
              "      <td>normal</td>\n",
              "      <td>notpresent</td>\n",
              "      <td>notpresent</td>\n",
              "      <td>NaN</td>\n",
              "      <td>18.0</td>\n",
              "      <td>0.8</td>\n",
              "      <td>NaN</td>\n",
              "      <td>NaN</td>\n",
              "      <td>11.3</td>\n",
              "      <td>38</td>\n",
              "      <td>6000</td>\n",
              "      <td>NaN</td>\n",
              "      <td>no</td>\n",
              "      <td>no</td>\n",
              "      <td>no</td>\n",
              "      <td>good</td>\n",
              "      <td>no</td>\n",
              "      <td>no</td>\n",
              "      <td>ckd</td>\n",
              "    </tr>\n",
              "    <tr>\n",
              "      <th>2</th>\n",
              "      <td>2</td>\n",
              "      <td>62.0</td>\n",
              "      <td>80.0</td>\n",
              "      <td>1.010</td>\n",
              "      <td>2.0</td>\n",
              "      <td>3.0</td>\n",
              "      <td>normal</td>\n",
              "      <td>normal</td>\n",
              "      <td>notpresent</td>\n",
              "      <td>notpresent</td>\n",
              "      <td>423.0</td>\n",
              "      <td>53.0</td>\n",
              "      <td>1.8</td>\n",
              "      <td>NaN</td>\n",
              "      <td>NaN</td>\n",
              "      <td>9.6</td>\n",
              "      <td>31</td>\n",
              "      <td>7500</td>\n",
              "      <td>NaN</td>\n",
              "      <td>no</td>\n",
              "      <td>yes</td>\n",
              "      <td>no</td>\n",
              "      <td>poor</td>\n",
              "      <td>no</td>\n",
              "      <td>yes</td>\n",
              "      <td>ckd</td>\n",
              "    </tr>\n",
              "    <tr>\n",
              "      <th>3</th>\n",
              "      <td>3</td>\n",
              "      <td>48.0</td>\n",
              "      <td>70.0</td>\n",
              "      <td>1.005</td>\n",
              "      <td>4.0</td>\n",
              "      <td>0.0</td>\n",
              "      <td>normal</td>\n",
              "      <td>abnormal</td>\n",
              "      <td>present</td>\n",
              "      <td>notpresent</td>\n",
              "      <td>117.0</td>\n",
              "      <td>56.0</td>\n",
              "      <td>3.8</td>\n",
              "      <td>111.0</td>\n",
              "      <td>2.5</td>\n",
              "      <td>11.2</td>\n",
              "      <td>32</td>\n",
              "      <td>6700</td>\n",
              "      <td>3.9</td>\n",
              "      <td>yes</td>\n",
              "      <td>no</td>\n",
              "      <td>no</td>\n",
              "      <td>poor</td>\n",
              "      <td>yes</td>\n",
              "      <td>yes</td>\n",
              "      <td>ckd</td>\n",
              "    </tr>\n",
              "    <tr>\n",
              "      <th>4</th>\n",
              "      <td>4</td>\n",
              "      <td>51.0</td>\n",
              "      <td>80.0</td>\n",
              "      <td>1.010</td>\n",
              "      <td>2.0</td>\n",
              "      <td>0.0</td>\n",
              "      <td>normal</td>\n",
              "      <td>normal</td>\n",
              "      <td>notpresent</td>\n",
              "      <td>notpresent</td>\n",
              "      <td>106.0</td>\n",
              "      <td>26.0</td>\n",
              "      <td>1.4</td>\n",
              "      <td>NaN</td>\n",
              "      <td>NaN</td>\n",
              "      <td>11.6</td>\n",
              "      <td>35</td>\n",
              "      <td>7300</td>\n",
              "      <td>4.6</td>\n",
              "      <td>no</td>\n",
              "      <td>no</td>\n",
              "      <td>no</td>\n",
              "      <td>good</td>\n",
              "      <td>no</td>\n",
              "      <td>no</td>\n",
              "      <td>ckd</td>\n",
              "    </tr>\n",
              "  </tbody>\n",
              "</table>\n",
              "</div>\n",
              "      <button class=\"colab-df-convert\" onclick=\"convertToInteractive('df-a068866b-a748-4687-91f7-e69465e5a7ff')\"\n",
              "              title=\"Convert this dataframe to an interactive table.\"\n",
              "              style=\"display:none;\">\n",
              "        \n",
              "  <svg xmlns=\"http://www.w3.org/2000/svg\" height=\"24px\"viewBox=\"0 0 24 24\"\n",
              "       width=\"24px\">\n",
              "    <path d=\"M0 0h24v24H0V0z\" fill=\"none\"/>\n",
              "    <path d=\"M18.56 5.44l.94 2.06.94-2.06 2.06-.94-2.06-.94-.94-2.06-.94 2.06-2.06.94zm-11 1L8.5 8.5l.94-2.06 2.06-.94-2.06-.94L8.5 2.5l-.94 2.06-2.06.94zm10 10l.94 2.06.94-2.06 2.06-.94-2.06-.94-.94-2.06-.94 2.06-2.06.94z\"/><path d=\"M17.41 7.96l-1.37-1.37c-.4-.4-.92-.59-1.43-.59-.52 0-1.04.2-1.43.59L10.3 9.45l-7.72 7.72c-.78.78-.78 2.05 0 2.83L4 21.41c.39.39.9.59 1.41.59.51 0 1.02-.2 1.41-.59l7.78-7.78 2.81-2.81c.8-.78.8-2.07 0-2.86zM5.41 20L4 18.59l7.72-7.72 1.47 1.35L5.41 20z\"/>\n",
              "  </svg>\n",
              "      </button>\n",
              "      \n",
              "  <style>\n",
              "    .colab-df-container {\n",
              "      display:flex;\n",
              "      flex-wrap:wrap;\n",
              "      gap: 12px;\n",
              "    }\n",
              "\n",
              "    .colab-df-convert {\n",
              "      background-color: #E8F0FE;\n",
              "      border: none;\n",
              "      border-radius: 50%;\n",
              "      cursor: pointer;\n",
              "      display: none;\n",
              "      fill: #1967D2;\n",
              "      height: 32px;\n",
              "      padding: 0 0 0 0;\n",
              "      width: 32px;\n",
              "    }\n",
              "\n",
              "    .colab-df-convert:hover {\n",
              "      background-color: #E2EBFA;\n",
              "      box-shadow: 0px 1px 2px rgba(60, 64, 67, 0.3), 0px 1px 3px 1px rgba(60, 64, 67, 0.15);\n",
              "      fill: #174EA6;\n",
              "    }\n",
              "\n",
              "    [theme=dark] .colab-df-convert {\n",
              "      background-color: #3B4455;\n",
              "      fill: #D2E3FC;\n",
              "    }\n",
              "\n",
              "    [theme=dark] .colab-df-convert:hover {\n",
              "      background-color: #434B5C;\n",
              "      box-shadow: 0px 1px 3px 1px rgba(0, 0, 0, 0.15);\n",
              "      filter: drop-shadow(0px 1px 2px rgba(0, 0, 0, 0.3));\n",
              "      fill: #FFFFFF;\n",
              "    }\n",
              "  </style>\n",
              "\n",
              "      <script>\n",
              "        const buttonEl =\n",
              "          document.querySelector('#df-a068866b-a748-4687-91f7-e69465e5a7ff button.colab-df-convert');\n",
              "        buttonEl.style.display =\n",
              "          google.colab.kernel.accessAllowed ? 'block' : 'none';\n",
              "\n",
              "        async function convertToInteractive(key) {\n",
              "          const element = document.querySelector('#df-a068866b-a748-4687-91f7-e69465e5a7ff');\n",
              "          const dataTable =\n",
              "            await google.colab.kernel.invokeFunction('convertToInteractive',\n",
              "                                                     [key], {});\n",
              "          if (!dataTable) return;\n",
              "\n",
              "          const docLinkHtml = 'Like what you see? Visit the ' +\n",
              "            '<a target=\"_blank\" href=https://colab.research.google.com/notebooks/data_table.ipynb>data table notebook</a>'\n",
              "            + ' to learn more about interactive tables.';\n",
              "          element.innerHTML = '';\n",
              "          dataTable['output_type'] = 'display_data';\n",
              "          await google.colab.output.renderOutput(dataTable, element);\n",
              "          const docLink = document.createElement('div');\n",
              "          docLink.innerHTML = docLinkHtml;\n",
              "          element.appendChild(docLink);\n",
              "        }\n",
              "      </script>\n",
              "    </div>\n",
              "  </div>\n",
              "  "
            ]
          },
          "metadata": {},
          "execution_count": 8
        }
      ]
    },
    {
      "cell_type": "code",
      "source": [
        "# show shape of dataset\n",
        "df.shape"
      ],
      "metadata": {
        "execution": {
          "iopub.status.busy": "2023-01-04T12:14:49.848839Z",
          "iopub.execute_input": "2023-01-04T12:14:49.849023Z",
          "iopub.status.idle": "2023-01-04T12:14:49.854002Z",
          "shell.execute_reply.started": "2023-01-04T12:14:49.849000Z",
          "shell.execute_reply": "2023-01-04T12:14:49.853290Z"
        },
        "trusted": true,
        "colab": {
          "base_uri": "https://localhost:8080/"
        },
        "id": "DUmxuK5m8oVz",
        "outputId": "b0c3583b-aeff-44db-99d6-84b30d52ca5f"
      },
      "execution_count": null,
      "outputs": [
        {
          "output_type": "execute_result",
          "data": {
            "text/plain": [
              "(400, 26)"
            ]
          },
          "metadata": {},
          "execution_count": 9
        }
      ]
    },
    {
      "cell_type": "code",
      "source": [
        "# show information about data\n",
        "df.info()"
      ],
      "metadata": {
        "execution": {
          "iopub.status.busy": "2023-01-04T12:14:49.914835Z",
          "iopub.execute_input": "2023-01-04T12:14:49.915077Z",
          "iopub.status.idle": "2023-01-04T12:14:49.928347Z",
          "shell.execute_reply.started": "2023-01-04T12:14:49.915045Z",
          "shell.execute_reply": "2023-01-04T12:14:49.927598Z"
        },
        "trusted": true,
        "colab": {
          "base_uri": "https://localhost:8080/"
        },
        "id": "JtbbCpJM8oV0",
        "outputId": "0221db85-7da8-4ead-b8c1-65165adf7cb9"
      },
      "execution_count": null,
      "outputs": [
        {
          "output_type": "stream",
          "name": "stdout",
          "text": [
            "<class 'pandas.core.frame.DataFrame'>\n",
            "RangeIndex: 400 entries, 0 to 399\n",
            "Data columns (total 26 columns):\n",
            " #   Column          Non-Null Count  Dtype  \n",
            "---  ------          --------------  -----  \n",
            " 0   id              400 non-null    int64  \n",
            " 1   age             391 non-null    float64\n",
            " 2   bp              388 non-null    float64\n",
            " 3   sg              353 non-null    float64\n",
            " 4   al              354 non-null    float64\n",
            " 5   su              351 non-null    float64\n",
            " 6   rbc             248 non-null    object \n",
            " 7   pc              335 non-null    object \n",
            " 8   pcc             396 non-null    object \n",
            " 9   ba              396 non-null    object \n",
            " 10  bgr             356 non-null    float64\n",
            " 11  bu              381 non-null    float64\n",
            " 12  sc              383 non-null    float64\n",
            " 13  sod             313 non-null    float64\n",
            " 14  pot             312 non-null    float64\n",
            " 15  hemo            348 non-null    float64\n",
            " 16  pcv             330 non-null    object \n",
            " 17  wc              295 non-null    object \n",
            " 18  rc              270 non-null    object \n",
            " 19  htn             398 non-null    object \n",
            " 20  dm              398 non-null    object \n",
            " 21  cad             398 non-null    object \n",
            " 22  appet           399 non-null    object \n",
            " 23  pe              399 non-null    object \n",
            " 24  ane             399 non-null    object \n",
            " 25  classification  400 non-null    object \n",
            "dtypes: float64(11), int64(1), object(14)\n",
            "memory usage: 81.4+ KB\n"
          ]
        }
      ]
    },
    {
      "cell_type": "code",
      "source": [
        "# describe the dataset\n",
        "df.describe().style.background_gradient(cmap = 'copper')"
      ],
      "metadata": {
        "execution": {
          "iopub.status.busy": "2023-01-04T12:14:49.856345Z",
          "iopub.execute_input": "2023-01-04T12:14:49.856970Z",
          "iopub.status.idle": "2023-01-04T12:14:49.913478Z",
          "shell.execute_reply.started": "2023-01-04T12:14:49.856894Z",
          "shell.execute_reply": "2023-01-04T12:14:49.912730Z"
        },
        "trusted": true,
        "colab": {
          "base_uri": "https://localhost:8080/",
          "height": 300
        },
        "id": "XqWV7dWj8oV0",
        "outputId": "33f479cc-44c4-4ebd-eec1-0c84d9c6b236"
      },
      "execution_count": null,
      "outputs": [
        {
          "output_type": "execute_result",
          "data": {
            "text/plain": [
              "<pandas.io.formats.style.Styler at 0x7f40f2de1700>"
            ],
            "text/html": [
              "<style type=\"text/css\">\n",
              "#T_3675b_row0_col0, #T_3675b_row0_col1, #T_3675b_row0_col2, #T_3675b_row0_col3, #T_3675b_row0_col4, #T_3675b_row0_col5, #T_3675b_row0_col8, #T_3675b_row0_col9, #T_3675b_row0_col10, #T_3675b_row0_col11, #T_3675b_row7_col0, #T_3675b_row7_col6, #T_3675b_row7_col7 {\n",
              "  background-color: #ffc77f;\n",
              "  color: #000000;\n",
              "}\n",
              "#T_3675b_row0_col6 {\n",
              "  background-color: #e18e5b;\n",
              "  color: #f1f1f1;\n",
              "}\n",
              "#T_3675b_row0_col7 {\n",
              "  background-color: #ffc37c;\n",
              "  color: #000000;\n",
              "}\n",
              "#T_3675b_row1_col0, #T_3675b_row5_col0 {\n",
              "  background-color: #9d633f;\n",
              "  color: #f1f1f1;\n",
              "}\n",
              "#T_3675b_row1_col1, #T_3675b_row2_col7 {\n",
              "  background-color: #281910;\n",
              "  color: #f1f1f1;\n",
              "}\n",
              "#T_3675b_row1_col2, #T_3675b_row4_col6, #T_3675b_row6_col7 {\n",
              "  background-color: #342115;\n",
              "  color: #f1f1f1;\n",
              "}\n",
              "#T_3675b_row1_col3, #T_3675b_row1_col4, #T_3675b_row1_col5, #T_3675b_row2_col2, #T_3675b_row2_col3, #T_3675b_row2_col4, #T_3675b_row2_col5, #T_3675b_row2_col10, #T_3675b_row2_col11, #T_3675b_row3_col0, #T_3675b_row3_col1, #T_3675b_row3_col3, #T_3675b_row3_col4, #T_3675b_row3_col5, #T_3675b_row3_col6, #T_3675b_row3_col7, #T_3675b_row3_col8, #T_3675b_row3_col9, #T_3675b_row3_col10, #T_3675b_row3_col11, #T_3675b_row4_col3, #T_3675b_row4_col4, #T_3675b_row4_col5, #T_3675b_row4_col8, #T_3675b_row5_col3, #T_3675b_row5_col4, #T_3675b_row5_col5, #T_3675b_row5_col8, #T_3675b_row6_col3, #T_3675b_row6_col5, #T_3675b_row7_col3 {\n",
              "  background-color: #000000;\n",
              "  color: #f1f1f1;\n",
              "}\n",
              "#T_3675b_row1_col6 {\n",
              "  background-color: #543522;\n",
              "  color: #f1f1f1;\n",
              "}\n",
              "#T_3675b_row1_col7, #T_3675b_row7_col10 {\n",
              "  background-color: #2c1c12;\n",
              "  color: #f1f1f1;\n",
              "}\n",
              "#T_3675b_row1_col8, #T_3675b_row1_col10, #T_3675b_row4_col10, #T_3675b_row5_col10, #T_3675b_row6_col4, #T_3675b_row6_col8, #T_3675b_row6_col10 {\n",
              "  background-color: #010100;\n",
              "  color: #f1f1f1;\n",
              "}\n",
              "#T_3675b_row1_col9, #T_3675b_row5_col9 {\n",
              "  background-color: #885637;\n",
              "  color: #f1f1f1;\n",
              "}\n",
              "#T_3675b_row1_col11, #T_3675b_row5_col11 {\n",
              "  background-color: #090503;\n",
              "  color: #f1f1f1;\n",
              "}\n",
              "#T_3675b_row2_col0 {\n",
              "  background-color: #5a3924;\n",
              "  color: #f1f1f1;\n",
              "}\n",
              "#T_3675b_row2_col1 {\n",
              "  background-color: #0b0704;\n",
              "  color: #f1f1f1;\n",
              "}\n",
              "#T_3675b_row2_col6 {\n",
              "  background-color: #26180f;\n",
              "  color: #f1f1f1;\n",
              "}\n",
              "#T_3675b_row2_col8, #T_3675b_row7_col4, #T_3675b_row7_col5 {\n",
              "  background-color: #040201;\n",
              "  color: #f1f1f1;\n",
              "}\n",
              "#T_3675b_row2_col9 {\n",
              "  background-color: #050302;\n",
              "  color: #f1f1f1;\n",
              "}\n",
              "#T_3675b_row3_col2 {\n",
              "  background-color: #1e130c;\n",
              "  color: #f1f1f1;\n",
              "}\n",
              "#T_3675b_row4_col0 {\n",
              "  background-color: #4e311f;\n",
              "  color: #f1f1f1;\n",
              "}\n",
              "#T_3675b_row4_col1, #T_3675b_row5_col7 {\n",
              "  background-color: #20140d;\n",
              "  color: #f1f1f1;\n",
              "}\n",
              "#T_3675b_row4_col2 {\n",
              "  background-color: #2f1e13;\n",
              "  color: #f1f1f1;\n",
              "}\n",
              "#T_3675b_row4_col7 {\n",
              "  background-color: #140c08;\n",
              "  color: #f1f1f1;\n",
              "}\n",
              "#T_3675b_row4_col9 {\n",
              "  background-color: #855436;\n",
              "  color: #f1f1f1;\n",
              "}\n",
              "#T_3675b_row4_col11 {\n",
              "  background-color: #060402;\n",
              "  color: #f1f1f1;\n",
              "}\n",
              "#T_3675b_row5_col1 {\n",
              "  background-color: #2a1b11;\n",
              "  color: #f1f1f1;\n",
              "}\n",
              "#T_3675b_row5_col2, #T_3675b_row6_col2 {\n",
              "  background-color: #382316;\n",
              "  color: #f1f1f1;\n",
              "}\n",
              "#T_3675b_row5_col6 {\n",
              "  background-color: #432a1b;\n",
              "  color: #f1f1f1;\n",
              "}\n",
              "#T_3675b_row6_col0 {\n",
              "  background-color: #ec955f;\n",
              "  color: #f1f1f1;\n",
              "}\n",
              "#T_3675b_row6_col1 {\n",
              "  background-color: #332014;\n",
              "  color: #f1f1f1;\n",
              "}\n",
              "#T_3675b_row6_col6 {\n",
              "  background-color: #5f3c26;\n",
              "  color: #f1f1f1;\n",
              "}\n",
              "#T_3675b_row6_col9 {\n",
              "  background-color: #8d5939;\n",
              "  color: #f1f1f1;\n",
              "}\n",
              "#T_3675b_row6_col11 {\n",
              "  background-color: #0a0604;\n",
              "  color: #f1f1f1;\n",
              "}\n",
              "#T_3675b_row7_col1 {\n",
              "  background-color: #462d1c;\n",
              "  color: #f1f1f1;\n",
              "}\n",
              "#T_3675b_row7_col2 {\n",
              "  background-color: #8c5838;\n",
              "  color: #f1f1f1;\n",
              "}\n",
              "#T_3675b_row7_col8 {\n",
              "  background-color: #3e2719;\n",
              "  color: #f1f1f1;\n",
              "}\n",
              "#T_3675b_row7_col9 {\n",
              "  background-color: #a26641;\n",
              "  color: #f1f1f1;\n",
              "}\n",
              "#T_3675b_row7_col11 {\n",
              "  background-color: #0e0905;\n",
              "  color: #f1f1f1;\n",
              "}\n",
              "</style>\n",
              "<table id=\"T_3675b_\" class=\"dataframe\">\n",
              "  <thead>\n",
              "    <tr>\n",
              "      <th class=\"blank level0\" >&nbsp;</th>\n",
              "      <th class=\"col_heading level0 col0\" >id</th>\n",
              "      <th class=\"col_heading level0 col1\" >age</th>\n",
              "      <th class=\"col_heading level0 col2\" >bp</th>\n",
              "      <th class=\"col_heading level0 col3\" >sg</th>\n",
              "      <th class=\"col_heading level0 col4\" >al</th>\n",
              "      <th class=\"col_heading level0 col5\" >su</th>\n",
              "      <th class=\"col_heading level0 col6\" >bgr</th>\n",
              "      <th class=\"col_heading level0 col7\" >bu</th>\n",
              "      <th class=\"col_heading level0 col8\" >sc</th>\n",
              "      <th class=\"col_heading level0 col9\" >sod</th>\n",
              "      <th class=\"col_heading level0 col10\" >pot</th>\n",
              "      <th class=\"col_heading level0 col11\" >hemo</th>\n",
              "    </tr>\n",
              "  </thead>\n",
              "  <tbody>\n",
              "    <tr>\n",
              "      <th id=\"T_3675b_level0_row0\" class=\"row_heading level0 row0\" >count</th>\n",
              "      <td id=\"T_3675b_row0_col0\" class=\"data row0 col0\" >400.000000</td>\n",
              "      <td id=\"T_3675b_row0_col1\" class=\"data row0 col1\" >391.000000</td>\n",
              "      <td id=\"T_3675b_row0_col2\" class=\"data row0 col2\" >388.000000</td>\n",
              "      <td id=\"T_3675b_row0_col3\" class=\"data row0 col3\" >353.000000</td>\n",
              "      <td id=\"T_3675b_row0_col4\" class=\"data row0 col4\" >354.000000</td>\n",
              "      <td id=\"T_3675b_row0_col5\" class=\"data row0 col5\" >351.000000</td>\n",
              "      <td id=\"T_3675b_row0_col6\" class=\"data row0 col6\" >356.000000</td>\n",
              "      <td id=\"T_3675b_row0_col7\" class=\"data row0 col7\" >381.000000</td>\n",
              "      <td id=\"T_3675b_row0_col8\" class=\"data row0 col8\" >383.000000</td>\n",
              "      <td id=\"T_3675b_row0_col9\" class=\"data row0 col9\" >313.000000</td>\n",
              "      <td id=\"T_3675b_row0_col10\" class=\"data row0 col10\" >312.000000</td>\n",
              "      <td id=\"T_3675b_row0_col11\" class=\"data row0 col11\" >348.000000</td>\n",
              "    </tr>\n",
              "    <tr>\n",
              "      <th id=\"T_3675b_level0_row1\" class=\"row_heading level0 row1\" >mean</th>\n",
              "      <td id=\"T_3675b_row1_col0\" class=\"data row1 col0\" >199.500000</td>\n",
              "      <td id=\"T_3675b_row1_col1\" class=\"data row1 col1\" >51.483376</td>\n",
              "      <td id=\"T_3675b_row1_col2\" class=\"data row1 col2\" >76.469072</td>\n",
              "      <td id=\"T_3675b_row1_col3\" class=\"data row1 col3\" >1.017408</td>\n",
              "      <td id=\"T_3675b_row1_col4\" class=\"data row1 col4\" >1.016949</td>\n",
              "      <td id=\"T_3675b_row1_col5\" class=\"data row1 col5\" >0.450142</td>\n",
              "      <td id=\"T_3675b_row1_col6\" class=\"data row1 col6\" >148.036517</td>\n",
              "      <td id=\"T_3675b_row1_col7\" class=\"data row1 col7\" >57.425722</td>\n",
              "      <td id=\"T_3675b_row1_col8\" class=\"data row1 col8\" >3.072454</td>\n",
              "      <td id=\"T_3675b_row1_col9\" class=\"data row1 col9\" >137.528754</td>\n",
              "      <td id=\"T_3675b_row1_col10\" class=\"data row1 col10\" >4.627244</td>\n",
              "      <td id=\"T_3675b_row1_col11\" class=\"data row1 col11\" >12.526437</td>\n",
              "    </tr>\n",
              "    <tr>\n",
              "      <th id=\"T_3675b_level0_row2\" class=\"row_heading level0 row2\" >std</th>\n",
              "      <td id=\"T_3675b_row2_col0\" class=\"data row2 col0\" >115.614301</td>\n",
              "      <td id=\"T_3675b_row2_col1\" class=\"data row2 col1\" >17.169714</td>\n",
              "      <td id=\"T_3675b_row2_col2\" class=\"data row2 col2\" >13.683637</td>\n",
              "      <td id=\"T_3675b_row2_col3\" class=\"data row2 col3\" >0.005717</td>\n",
              "      <td id=\"T_3675b_row2_col4\" class=\"data row2 col4\" >1.352679</td>\n",
              "      <td id=\"T_3675b_row2_col5\" class=\"data row2 col5\" >1.099191</td>\n",
              "      <td id=\"T_3675b_row2_col6\" class=\"data row2 col6\" >79.281714</td>\n",
              "      <td id=\"T_3675b_row2_col7\" class=\"data row2 col7\" >50.503006</td>\n",
              "      <td id=\"T_3675b_row2_col8\" class=\"data row2 col8\" >5.741126</td>\n",
              "      <td id=\"T_3675b_row2_col9\" class=\"data row2 col9\" >10.408752</td>\n",
              "      <td id=\"T_3675b_row2_col10\" class=\"data row2 col10\" >3.193904</td>\n",
              "      <td id=\"T_3675b_row2_col11\" class=\"data row2 col11\" >2.912587</td>\n",
              "    </tr>\n",
              "    <tr>\n",
              "      <th id=\"T_3675b_level0_row3\" class=\"row_heading level0 row3\" >min</th>\n",
              "      <td id=\"T_3675b_row3_col0\" class=\"data row3 col0\" >0.000000</td>\n",
              "      <td id=\"T_3675b_row3_col1\" class=\"data row3 col1\" >2.000000</td>\n",
              "      <td id=\"T_3675b_row3_col2\" class=\"data row3 col2\" >50.000000</td>\n",
              "      <td id=\"T_3675b_row3_col3\" class=\"data row3 col3\" >1.005000</td>\n",
              "      <td id=\"T_3675b_row3_col4\" class=\"data row3 col4\" >0.000000</td>\n",
              "      <td id=\"T_3675b_row3_col5\" class=\"data row3 col5\" >0.000000</td>\n",
              "      <td id=\"T_3675b_row3_col6\" class=\"data row3 col6\" >22.000000</td>\n",
              "      <td id=\"T_3675b_row3_col7\" class=\"data row3 col7\" >1.500000</td>\n",
              "      <td id=\"T_3675b_row3_col8\" class=\"data row3 col8\" >0.400000</td>\n",
              "      <td id=\"T_3675b_row3_col9\" class=\"data row3 col9\" >4.500000</td>\n",
              "      <td id=\"T_3675b_row3_col10\" class=\"data row3 col10\" >2.500000</td>\n",
              "      <td id=\"T_3675b_row3_col11\" class=\"data row3 col11\" >3.100000</td>\n",
              "    </tr>\n",
              "    <tr>\n",
              "      <th id=\"T_3675b_level0_row4\" class=\"row_heading level0 row4\" >25%</th>\n",
              "      <td id=\"T_3675b_row4_col0\" class=\"data row4 col0\" >99.750000</td>\n",
              "      <td id=\"T_3675b_row4_col1\" class=\"data row4 col1\" >42.000000</td>\n",
              "      <td id=\"T_3675b_row4_col2\" class=\"data row4 col2\" >70.000000</td>\n",
              "      <td id=\"T_3675b_row4_col3\" class=\"data row4 col3\" >1.010000</td>\n",
              "      <td id=\"T_3675b_row4_col4\" class=\"data row4 col4\" >0.000000</td>\n",
              "      <td id=\"T_3675b_row4_col5\" class=\"data row4 col5\" >0.000000</td>\n",
              "      <td id=\"T_3675b_row4_col6\" class=\"data row4 col6\" >99.000000</td>\n",
              "      <td id=\"T_3675b_row4_col7\" class=\"data row4 col7\" >27.000000</td>\n",
              "      <td id=\"T_3675b_row4_col8\" class=\"data row4 col8\" >0.900000</td>\n",
              "      <td id=\"T_3675b_row4_col9\" class=\"data row4 col9\" >135.000000</td>\n",
              "      <td id=\"T_3675b_row4_col10\" class=\"data row4 col10\" >3.800000</td>\n",
              "      <td id=\"T_3675b_row4_col11\" class=\"data row4 col11\" >10.300000</td>\n",
              "    </tr>\n",
              "    <tr>\n",
              "      <th id=\"T_3675b_level0_row5\" class=\"row_heading level0 row5\" >50%</th>\n",
              "      <td id=\"T_3675b_row5_col0\" class=\"data row5 col0\" >199.500000</td>\n",
              "      <td id=\"T_3675b_row5_col1\" class=\"data row5 col1\" >55.000000</td>\n",
              "      <td id=\"T_3675b_row5_col2\" class=\"data row5 col2\" >80.000000</td>\n",
              "      <td id=\"T_3675b_row5_col3\" class=\"data row5 col3\" >1.020000</td>\n",
              "      <td id=\"T_3675b_row5_col4\" class=\"data row5 col4\" >0.000000</td>\n",
              "      <td id=\"T_3675b_row5_col5\" class=\"data row5 col5\" >0.000000</td>\n",
              "      <td id=\"T_3675b_row5_col6\" class=\"data row5 col6\" >121.000000</td>\n",
              "      <td id=\"T_3675b_row5_col7\" class=\"data row5 col7\" >42.000000</td>\n",
              "      <td id=\"T_3675b_row5_col8\" class=\"data row5 col8\" >1.300000</td>\n",
              "      <td id=\"T_3675b_row5_col9\" class=\"data row5 col9\" >138.000000</td>\n",
              "      <td id=\"T_3675b_row5_col10\" class=\"data row5 col10\" >4.400000</td>\n",
              "      <td id=\"T_3675b_row5_col11\" class=\"data row5 col11\" >12.650000</td>\n",
              "    </tr>\n",
              "    <tr>\n",
              "      <th id=\"T_3675b_level0_row6\" class=\"row_heading level0 row6\" >75%</th>\n",
              "      <td id=\"T_3675b_row6_col0\" class=\"data row6 col0\" >299.250000</td>\n",
              "      <td id=\"T_3675b_row6_col1\" class=\"data row6 col1\" >64.500000</td>\n",
              "      <td id=\"T_3675b_row6_col2\" class=\"data row6 col2\" >80.000000</td>\n",
              "      <td id=\"T_3675b_row6_col3\" class=\"data row6 col3\" >1.020000</td>\n",
              "      <td id=\"T_3675b_row6_col4\" class=\"data row6 col4\" >2.000000</td>\n",
              "      <td id=\"T_3675b_row6_col5\" class=\"data row6 col5\" >0.000000</td>\n",
              "      <td id=\"T_3675b_row6_col6\" class=\"data row6 col6\" >163.000000</td>\n",
              "      <td id=\"T_3675b_row6_col7\" class=\"data row6 col7\" >66.000000</td>\n",
              "      <td id=\"T_3675b_row6_col8\" class=\"data row6 col8\" >2.800000</td>\n",
              "      <td id=\"T_3675b_row6_col9\" class=\"data row6 col9\" >142.000000</td>\n",
              "      <td id=\"T_3675b_row6_col10\" class=\"data row6 col10\" >4.900000</td>\n",
              "      <td id=\"T_3675b_row6_col11\" class=\"data row6 col11\" >15.000000</td>\n",
              "    </tr>\n",
              "    <tr>\n",
              "      <th id=\"T_3675b_level0_row7\" class=\"row_heading level0 row7\" >max</th>\n",
              "      <td id=\"T_3675b_row7_col0\" class=\"data row7 col0\" >399.000000</td>\n",
              "      <td id=\"T_3675b_row7_col1\" class=\"data row7 col1\" >90.000000</td>\n",
              "      <td id=\"T_3675b_row7_col2\" class=\"data row7 col2\" >180.000000</td>\n",
              "      <td id=\"T_3675b_row7_col3\" class=\"data row7 col3\" >1.025000</td>\n",
              "      <td id=\"T_3675b_row7_col4\" class=\"data row7 col4\" >5.000000</td>\n",
              "      <td id=\"T_3675b_row7_col5\" class=\"data row7 col5\" >5.000000</td>\n",
              "      <td id=\"T_3675b_row7_col6\" class=\"data row7 col6\" >490.000000</td>\n",
              "      <td id=\"T_3675b_row7_col7\" class=\"data row7 col7\" >391.000000</td>\n",
              "      <td id=\"T_3675b_row7_col8\" class=\"data row7 col8\" >76.000000</td>\n",
              "      <td id=\"T_3675b_row7_col9\" class=\"data row7 col9\" >163.000000</td>\n",
              "      <td id=\"T_3675b_row7_col10\" class=\"data row7 col10\" >47.000000</td>\n",
              "      <td id=\"T_3675b_row7_col11\" class=\"data row7 col11\" >17.800000</td>\n",
              "    </tr>\n",
              "  </tbody>\n",
              "</table>\n"
            ]
          },
          "metadata": {},
          "execution_count": 11
        }
      ]
    },
    {
      "cell_type": "code",
      "source": [
        "# dropping id column\n",
        "df.drop('id', axis = 1, inplace = True)"
      ],
      "metadata": {
        "execution": {
          "iopub.status.busy": "2023-01-04T12:14:49.929557Z",
          "iopub.execute_input": "2023-01-04T12:14:49.929936Z",
          "iopub.status.idle": "2023-01-04T12:14:49.935324Z",
          "shell.execute_reply.started": "2023-01-04T12:14:49.929902Z",
          "shell.execute_reply": "2023-01-04T12:14:49.934437Z"
        },
        "trusted": true,
        "id": "i__YQvtL8oV1"
      },
      "execution_count": null,
      "outputs": []
    },
    {
      "cell_type": "code",
      "source": [
        "# to understand the columns of dataset we can rename the data and set original names\n",
        "# rename column names to make it more user-friendly\n",
        "\n",
        "df.columns = ['age', 'blood_pressure', 'specific_gravity', 'albumin', 'sulfonylurea', 'red_blood_cells', 'pus_cell',\n",
        "              'pus_cell_clumps', 'bacteria', 'blood_glucose_random', 'blood_urea', 'serum_creatinine', 'sodium',\n",
        "              'potassium', 'haemoglobin', 'packed_cell_volume', 'white_blood_cell_count', 'red_blood_cell_count',\n",
        "              'hypertension', 'diabetes_mellitus', 'coronary_artery_disease', 'appetite', 'pedal_edema',\n",
        "              'anemia', 'class']"
      ],
      "metadata": {
        "execution": {
          "iopub.status.busy": "2023-01-04T12:14:49.936557Z",
          "iopub.execute_input": "2023-01-04T12:14:49.937371Z",
          "iopub.status.idle": "2023-01-04T12:14:49.947071Z",
          "shell.execute_reply.started": "2023-01-04T12:14:49.937336Z",
          "shell.execute_reply": "2023-01-04T12:14:49.946243Z"
        },
        "trusted": true,
        "id": "SuvPvH--8oV1"
      },
      "execution_count": null,
      "outputs": []
    },
    {
      "cell_type": "code",
      "source": [
        "df.head()"
      ],
      "metadata": {
        "execution": {
          "iopub.status.busy": "2023-01-04T12:14:49.948325Z",
          "iopub.execute_input": "2023-01-04T12:14:49.948593Z",
          "iopub.status.idle": "2023-01-04T12:14:49.983282Z",
          "shell.execute_reply.started": "2023-01-04T12:14:49.948560Z",
          "shell.execute_reply": "2023-01-04T12:14:49.982399Z"
        },
        "trusted": true,
        "colab": {
          "base_uri": "https://localhost:8080/",
          "height": 270
        },
        "id": "CqTZbSjk8oV1",
        "outputId": "2563347d-2118-42a7-a55b-57cfdd499c82"
      },
      "execution_count": null,
      "outputs": [
        {
          "output_type": "execute_result",
          "data": {
            "text/plain": [
              "    age  blood_pressure  specific_gravity  albumin  sulfonylurea  \\\n",
              "0  48.0            80.0             1.020      1.0           0.0   \n",
              "1   7.0            50.0             1.020      4.0           0.0   \n",
              "2  62.0            80.0             1.010      2.0           3.0   \n",
              "3  48.0            70.0             1.005      4.0           0.0   \n",
              "4  51.0            80.0             1.010      2.0           0.0   \n",
              "\n",
              "  red_blood_cells  pus_cell pus_cell_clumps    bacteria  blood_glucose_random  \\\n",
              "0             NaN    normal      notpresent  notpresent                 121.0   \n",
              "1             NaN    normal      notpresent  notpresent                   NaN   \n",
              "2          normal    normal      notpresent  notpresent                 423.0   \n",
              "3          normal  abnormal         present  notpresent                 117.0   \n",
              "4          normal    normal      notpresent  notpresent                 106.0   \n",
              "\n",
              "   blood_urea  serum_creatinine  sodium  potassium  haemoglobin  \\\n",
              "0        36.0               1.2     NaN        NaN         15.4   \n",
              "1        18.0               0.8     NaN        NaN         11.3   \n",
              "2        53.0               1.8     NaN        NaN          9.6   \n",
              "3        56.0               3.8   111.0        2.5         11.2   \n",
              "4        26.0               1.4     NaN        NaN         11.6   \n",
              "\n",
              "  packed_cell_volume white_blood_cell_count red_blood_cell_count hypertension  \\\n",
              "0                 44                   7800                  5.2          yes   \n",
              "1                 38                   6000                  NaN           no   \n",
              "2                 31                   7500                  NaN           no   \n",
              "3                 32                   6700                  3.9          yes   \n",
              "4                 35                   7300                  4.6           no   \n",
              "\n",
              "  diabetes_mellitus coronary_artery_disease appetite pedal_edema anemia class  \n",
              "0               yes                      no     good          no     no   ckd  \n",
              "1                no                      no     good          no     no   ckd  \n",
              "2               yes                      no     poor          no    yes   ckd  \n",
              "3                no                      no     poor         yes    yes   ckd  \n",
              "4                no                      no     good          no     no   ckd  "
            ],
            "text/html": [
              "\n",
              "  <div id=\"df-da94791b-c812-444e-94bb-a9635d566d22\">\n",
              "    <div class=\"colab-df-container\">\n",
              "      <div>\n",
              "<style scoped>\n",
              "    .dataframe tbody tr th:only-of-type {\n",
              "        vertical-align: middle;\n",
              "    }\n",
              "\n",
              "    .dataframe tbody tr th {\n",
              "        vertical-align: top;\n",
              "    }\n",
              "\n",
              "    .dataframe thead th {\n",
              "        text-align: right;\n",
              "    }\n",
              "</style>\n",
              "<table border=\"1\" class=\"dataframe\">\n",
              "  <thead>\n",
              "    <tr style=\"text-align: right;\">\n",
              "      <th></th>\n",
              "      <th>age</th>\n",
              "      <th>blood_pressure</th>\n",
              "      <th>specific_gravity</th>\n",
              "      <th>albumin</th>\n",
              "      <th>sulfonylurea</th>\n",
              "      <th>red_blood_cells</th>\n",
              "      <th>pus_cell</th>\n",
              "      <th>pus_cell_clumps</th>\n",
              "      <th>bacteria</th>\n",
              "      <th>blood_glucose_random</th>\n",
              "      <th>blood_urea</th>\n",
              "      <th>serum_creatinine</th>\n",
              "      <th>sodium</th>\n",
              "      <th>potassium</th>\n",
              "      <th>haemoglobin</th>\n",
              "      <th>packed_cell_volume</th>\n",
              "      <th>white_blood_cell_count</th>\n",
              "      <th>red_blood_cell_count</th>\n",
              "      <th>hypertension</th>\n",
              "      <th>diabetes_mellitus</th>\n",
              "      <th>coronary_artery_disease</th>\n",
              "      <th>appetite</th>\n",
              "      <th>pedal_edema</th>\n",
              "      <th>anemia</th>\n",
              "      <th>class</th>\n",
              "    </tr>\n",
              "  </thead>\n",
              "  <tbody>\n",
              "    <tr>\n",
              "      <th>0</th>\n",
              "      <td>48.0</td>\n",
              "      <td>80.0</td>\n",
              "      <td>1.020</td>\n",
              "      <td>1.0</td>\n",
              "      <td>0.0</td>\n",
              "      <td>NaN</td>\n",
              "      <td>normal</td>\n",
              "      <td>notpresent</td>\n",
              "      <td>notpresent</td>\n",
              "      <td>121.0</td>\n",
              "      <td>36.0</td>\n",
              "      <td>1.2</td>\n",
              "      <td>NaN</td>\n",
              "      <td>NaN</td>\n",
              "      <td>15.4</td>\n",
              "      <td>44</td>\n",
              "      <td>7800</td>\n",
              "      <td>5.2</td>\n",
              "      <td>yes</td>\n",
              "      <td>yes</td>\n",
              "      <td>no</td>\n",
              "      <td>good</td>\n",
              "      <td>no</td>\n",
              "      <td>no</td>\n",
              "      <td>ckd</td>\n",
              "    </tr>\n",
              "    <tr>\n",
              "      <th>1</th>\n",
              "      <td>7.0</td>\n",
              "      <td>50.0</td>\n",
              "      <td>1.020</td>\n",
              "      <td>4.0</td>\n",
              "      <td>0.0</td>\n",
              "      <td>NaN</td>\n",
              "      <td>normal</td>\n",
              "      <td>notpresent</td>\n",
              "      <td>notpresent</td>\n",
              "      <td>NaN</td>\n",
              "      <td>18.0</td>\n",
              "      <td>0.8</td>\n",
              "      <td>NaN</td>\n",
              "      <td>NaN</td>\n",
              "      <td>11.3</td>\n",
              "      <td>38</td>\n",
              "      <td>6000</td>\n",
              "      <td>NaN</td>\n",
              "      <td>no</td>\n",
              "      <td>no</td>\n",
              "      <td>no</td>\n",
              "      <td>good</td>\n",
              "      <td>no</td>\n",
              "      <td>no</td>\n",
              "      <td>ckd</td>\n",
              "    </tr>\n",
              "    <tr>\n",
              "      <th>2</th>\n",
              "      <td>62.0</td>\n",
              "      <td>80.0</td>\n",
              "      <td>1.010</td>\n",
              "      <td>2.0</td>\n",
              "      <td>3.0</td>\n",
              "      <td>normal</td>\n",
              "      <td>normal</td>\n",
              "      <td>notpresent</td>\n",
              "      <td>notpresent</td>\n",
              "      <td>423.0</td>\n",
              "      <td>53.0</td>\n",
              "      <td>1.8</td>\n",
              "      <td>NaN</td>\n",
              "      <td>NaN</td>\n",
              "      <td>9.6</td>\n",
              "      <td>31</td>\n",
              "      <td>7500</td>\n",
              "      <td>NaN</td>\n",
              "      <td>no</td>\n",
              "      <td>yes</td>\n",
              "      <td>no</td>\n",
              "      <td>poor</td>\n",
              "      <td>no</td>\n",
              "      <td>yes</td>\n",
              "      <td>ckd</td>\n",
              "    </tr>\n",
              "    <tr>\n",
              "      <th>3</th>\n",
              "      <td>48.0</td>\n",
              "      <td>70.0</td>\n",
              "      <td>1.005</td>\n",
              "      <td>4.0</td>\n",
              "      <td>0.0</td>\n",
              "      <td>normal</td>\n",
              "      <td>abnormal</td>\n",
              "      <td>present</td>\n",
              "      <td>notpresent</td>\n",
              "      <td>117.0</td>\n",
              "      <td>56.0</td>\n",
              "      <td>3.8</td>\n",
              "      <td>111.0</td>\n",
              "      <td>2.5</td>\n",
              "      <td>11.2</td>\n",
              "      <td>32</td>\n",
              "      <td>6700</td>\n",
              "      <td>3.9</td>\n",
              "      <td>yes</td>\n",
              "      <td>no</td>\n",
              "      <td>no</td>\n",
              "      <td>poor</td>\n",
              "      <td>yes</td>\n",
              "      <td>yes</td>\n",
              "      <td>ckd</td>\n",
              "    </tr>\n",
              "    <tr>\n",
              "      <th>4</th>\n",
              "      <td>51.0</td>\n",
              "      <td>80.0</td>\n",
              "      <td>1.010</td>\n",
              "      <td>2.0</td>\n",
              "      <td>0.0</td>\n",
              "      <td>normal</td>\n",
              "      <td>normal</td>\n",
              "      <td>notpresent</td>\n",
              "      <td>notpresent</td>\n",
              "      <td>106.0</td>\n",
              "      <td>26.0</td>\n",
              "      <td>1.4</td>\n",
              "      <td>NaN</td>\n",
              "      <td>NaN</td>\n",
              "      <td>11.6</td>\n",
              "      <td>35</td>\n",
              "      <td>7300</td>\n",
              "      <td>4.6</td>\n",
              "      <td>no</td>\n",
              "      <td>no</td>\n",
              "      <td>no</td>\n",
              "      <td>good</td>\n",
              "      <td>no</td>\n",
              "      <td>no</td>\n",
              "      <td>ckd</td>\n",
              "    </tr>\n",
              "  </tbody>\n",
              "</table>\n",
              "</div>\n",
              "      <button class=\"colab-df-convert\" onclick=\"convertToInteractive('df-da94791b-c812-444e-94bb-a9635d566d22')\"\n",
              "              title=\"Convert this dataframe to an interactive table.\"\n",
              "              style=\"display:none;\">\n",
              "        \n",
              "  <svg xmlns=\"http://www.w3.org/2000/svg\" height=\"24px\"viewBox=\"0 0 24 24\"\n",
              "       width=\"24px\">\n",
              "    <path d=\"M0 0h24v24H0V0z\" fill=\"none\"/>\n",
              "    <path d=\"M18.56 5.44l.94 2.06.94-2.06 2.06-.94-2.06-.94-.94-2.06-.94 2.06-2.06.94zm-11 1L8.5 8.5l.94-2.06 2.06-.94-2.06-.94L8.5 2.5l-.94 2.06-2.06.94zm10 10l.94 2.06.94-2.06 2.06-.94-2.06-.94-.94-2.06-.94 2.06-2.06.94z\"/><path d=\"M17.41 7.96l-1.37-1.37c-.4-.4-.92-.59-1.43-.59-.52 0-1.04.2-1.43.59L10.3 9.45l-7.72 7.72c-.78.78-.78 2.05 0 2.83L4 21.41c.39.39.9.59 1.41.59.51 0 1.02-.2 1.41-.59l7.78-7.78 2.81-2.81c.8-.78.8-2.07 0-2.86zM5.41 20L4 18.59l7.72-7.72 1.47 1.35L5.41 20z\"/>\n",
              "  </svg>\n",
              "      </button>\n",
              "      \n",
              "  <style>\n",
              "    .colab-df-container {\n",
              "      display:flex;\n",
              "      flex-wrap:wrap;\n",
              "      gap: 12px;\n",
              "    }\n",
              "\n",
              "    .colab-df-convert {\n",
              "      background-color: #E8F0FE;\n",
              "      border: none;\n",
              "      border-radius: 50%;\n",
              "      cursor: pointer;\n",
              "      display: none;\n",
              "      fill: #1967D2;\n",
              "      height: 32px;\n",
              "      padding: 0 0 0 0;\n",
              "      width: 32px;\n",
              "    }\n",
              "\n",
              "    .colab-df-convert:hover {\n",
              "      background-color: #E2EBFA;\n",
              "      box-shadow: 0px 1px 2px rgba(60, 64, 67, 0.3), 0px 1px 3px 1px rgba(60, 64, 67, 0.15);\n",
              "      fill: #174EA6;\n",
              "    }\n",
              "\n",
              "    [theme=dark] .colab-df-convert {\n",
              "      background-color: #3B4455;\n",
              "      fill: #D2E3FC;\n",
              "    }\n",
              "\n",
              "    [theme=dark] .colab-df-convert:hover {\n",
              "      background-color: #434B5C;\n",
              "      box-shadow: 0px 1px 3px 1px rgba(0, 0, 0, 0.15);\n",
              "      filter: drop-shadow(0px 1px 2px rgba(0, 0, 0, 0.3));\n",
              "      fill: #FFFFFF;\n",
              "    }\n",
              "  </style>\n",
              "\n",
              "      <script>\n",
              "        const buttonEl =\n",
              "          document.querySelector('#df-da94791b-c812-444e-94bb-a9635d566d22 button.colab-df-convert');\n",
              "        buttonEl.style.display =\n",
              "          google.colab.kernel.accessAllowed ? 'block' : 'none';\n",
              "\n",
              "        async function convertToInteractive(key) {\n",
              "          const element = document.querySelector('#df-da94791b-c812-444e-94bb-a9635d566d22');\n",
              "          const dataTable =\n",
              "            await google.colab.kernel.invokeFunction('convertToInteractive',\n",
              "                                                     [key], {});\n",
              "          if (!dataTable) return;\n",
              "\n",
              "          const docLinkHtml = 'Like what you see? Visit the ' +\n",
              "            '<a target=\"_blank\" href=https://colab.research.google.com/notebooks/data_table.ipynb>data table notebook</a>'\n",
              "            + ' to learn more about interactive tables.';\n",
              "          element.innerHTML = '';\n",
              "          dataTable['output_type'] = 'display_data';\n",
              "          await google.colab.output.renderOutput(dataTable, element);\n",
              "          const docLink = document.createElement('div');\n",
              "          docLink.innerHTML = docLinkHtml;\n",
              "          element.appendChild(docLink);\n",
              "        }\n",
              "      </script>\n",
              "    </div>\n",
              "  </div>\n",
              "  "
            ]
          },
          "metadata": {},
          "execution_count": 14
        }
      ]
    },
    {
      "cell_type": "code",
      "source": [
        "# converting necessary columns to numerical type \n",
        "df['packed_cell_volume'] = pd.to_numeric(df['packed_cell_volume'], errors='coerce')\n",
        "df['white_blood_cell_count'] = pd.to_numeric(df['white_blood_cell_count'], errors='coerce')\n",
        "df['red_blood_cell_count'] = pd.to_numeric(df['red_blood_cell_count'], errors='coerce')"
      ],
      "metadata": {
        "execution": {
          "iopub.status.busy": "2023-01-04T12:14:49.986223Z",
          "iopub.execute_input": "2023-01-04T12:14:49.986614Z",
          "iopub.status.idle": "2023-01-04T12:14:49.995212Z",
          "shell.execute_reply.started": "2023-01-04T12:14:49.986580Z",
          "shell.execute_reply": "2023-01-04T12:14:49.994429Z"
        },
        "trusted": true,
        "id": "q87Xb7iE8oV2"
      },
      "execution_count": null,
      "outputs": []
    },
    {
      "cell_type": "code",
      "source": [
        "df.info()"
      ],
      "metadata": {
        "execution": {
          "iopub.status.busy": "2023-01-04T12:14:49.996591Z",
          "iopub.execute_input": "2023-01-04T12:14:49.996847Z",
          "iopub.status.idle": "2023-01-04T12:14:50.020028Z",
          "shell.execute_reply.started": "2023-01-04T12:14:49.996813Z",
          "shell.execute_reply": "2023-01-04T12:14:50.019090Z"
        },
        "trusted": true,
        "colab": {
          "base_uri": "https://localhost:8080/"
        },
        "id": "l5GjQeHG8oV2",
        "outputId": "058fbd8d-d8fa-4e99-a4ad-273802c9b589"
      },
      "execution_count": null,
      "outputs": [
        {
          "output_type": "stream",
          "name": "stdout",
          "text": [
            "<class 'pandas.core.frame.DataFrame'>\n",
            "RangeIndex: 400 entries, 0 to 399\n",
            "Data columns (total 25 columns):\n",
            " #   Column                   Non-Null Count  Dtype  \n",
            "---  ------                   --------------  -----  \n",
            " 0   age                      391 non-null    float64\n",
            " 1   blood_pressure           388 non-null    float64\n",
            " 2   specific_gravity         353 non-null    float64\n",
            " 3   albumin                  354 non-null    float64\n",
            " 4   sulfonylurea             351 non-null    float64\n",
            " 5   red_blood_cells          248 non-null    object \n",
            " 6   pus_cell                 335 non-null    object \n",
            " 7   pus_cell_clumps          396 non-null    object \n",
            " 8   bacteria                 396 non-null    object \n",
            " 9   blood_glucose_random     356 non-null    float64\n",
            " 10  blood_urea               381 non-null    float64\n",
            " 11  serum_creatinine         383 non-null    float64\n",
            " 12  sodium                   313 non-null    float64\n",
            " 13  potassium                312 non-null    float64\n",
            " 14  haemoglobin              348 non-null    float64\n",
            " 15  packed_cell_volume       329 non-null    float64\n",
            " 16  white_blood_cell_count   294 non-null    float64\n",
            " 17  red_blood_cell_count     269 non-null    float64\n",
            " 18  hypertension             398 non-null    object \n",
            " 19  diabetes_mellitus        398 non-null    object \n",
            " 20  coronary_artery_disease  398 non-null    object \n",
            " 21  appetite                 399 non-null    object \n",
            " 22  pedal_edema              399 non-null    object \n",
            " 23  anemia                   399 non-null    object \n",
            " 24  class                    400 non-null    object \n",
            "dtypes: float64(14), object(11)\n",
            "memory usage: 78.2+ KB\n"
          ]
        }
      ]
    },
    {
      "cell_type": "code",
      "source": [
        "# replace for incorect value \n",
        "\n",
        "df['diabetes_mellitus'].replace(to_replace = {'\\tno':'no','\\tyes':'yes',' yes':'yes'},inplace=True)\n",
        "\n",
        "df['coronary_artery_disease'] = df['coronary_artery_disease'].replace(to_replace = '\\tno', value='no')\n",
        "\n",
        "df['class'] = df['class'].replace(to_replace = {'ckd\\t': 'ckd', 'notckd': 'not ckd'})"
      ],
      "metadata": {
        "execution": {
          "iopub.status.busy": "2023-01-04T12:14:50.021278Z",
          "iopub.execute_input": "2023-01-04T12:14:50.021728Z",
          "iopub.status.idle": "2023-01-04T12:14:50.035221Z",
          "shell.execute_reply.started": "2023-01-04T12:14:50.021690Z",
          "shell.execute_reply": "2023-01-04T12:14:50.034499Z"
        },
        "trusted": true,
        "id": "kHoq7igf8oV2"
      },
      "execution_count": null,
      "outputs": []
    },
    {
      "cell_type": "code",
      "source": [
        "df['class'] = df['class'].map({'ckd': 0, 'not ckd': 1})\n",
        "df['class'] = pd.to_numeric(df['class'], errors='coerce')"
      ],
      "metadata": {
        "execution": {
          "iopub.status.busy": "2023-01-04T12:14:50.037846Z",
          "iopub.execute_input": "2023-01-04T12:14:50.038034Z",
          "iopub.status.idle": "2023-01-04T12:14:50.048012Z",
          "shell.execute_reply.started": "2023-01-04T12:14:50.038011Z",
          "shell.execute_reply": "2023-01-04T12:14:50.047305Z"
        },
        "trusted": true,
        "id": "LYhXw5pB8oV3"
      },
      "execution_count": null,
      "outputs": []
    },
    {
      "cell_type": "code",
      "source": [
        "df.info()"
      ],
      "metadata": {
        "colab": {
          "base_uri": "https://localhost:8080/"
        },
        "id": "uJqratEj9mXm",
        "outputId": "83a03539-75fc-47b2-9ad2-a98763ab8f1e"
      },
      "execution_count": null,
      "outputs": [
        {
          "output_type": "stream",
          "name": "stdout",
          "text": [
            "<class 'pandas.core.frame.DataFrame'>\n",
            "RangeIndex: 400 entries, 0 to 399\n",
            "Data columns (total 25 columns):\n",
            " #   Column                   Non-Null Count  Dtype  \n",
            "---  ------                   --------------  -----  \n",
            " 0   age                      391 non-null    float64\n",
            " 1   blood_pressure           388 non-null    float64\n",
            " 2   specific_gravity         353 non-null    float64\n",
            " 3   albumin                  354 non-null    float64\n",
            " 4   sulfonylurea             351 non-null    float64\n",
            " 5   red_blood_cells          248 non-null    object \n",
            " 6   pus_cell                 335 non-null    object \n",
            " 7   pus_cell_clumps          396 non-null    object \n",
            " 8   bacteria                 396 non-null    object \n",
            " 9   blood_glucose_random     356 non-null    float64\n",
            " 10  blood_urea               381 non-null    float64\n",
            " 11  serum_creatinine         383 non-null    float64\n",
            " 12  sodium                   313 non-null    float64\n",
            " 13  potassium                312 non-null    float64\n",
            " 14  haemoglobin              348 non-null    float64\n",
            " 15  packed_cell_volume       329 non-null    float64\n",
            " 16  white_blood_cell_count   294 non-null    float64\n",
            " 17  red_blood_cell_count     269 non-null    float64\n",
            " 18  hypertension             398 non-null    object \n",
            " 19  diabetes_mellitus        398 non-null    object \n",
            " 20  coronary_artery_disease  398 non-null    object \n",
            " 21  appetite                 399 non-null    object \n",
            " 22  pedal_edema              399 non-null    object \n",
            " 23  anemia                   399 non-null    object \n",
            " 24  class                    400 non-null    int64  \n",
            "dtypes: float64(14), int64(1), object(10)\n",
            "memory usage: 78.2+ KB\n"
          ]
        }
      ]
    },
    {
      "cell_type": "code",
      "source": [
        "# Extracting categorical and numerical columns\n",
        "\n",
        "cat_cols = [col for col in df.columns if df[col].dtype == 'object']\n",
        "num_cols = [col for col in df.columns if df[col].dtype != 'object']"
      ],
      "metadata": {
        "execution": {
          "iopub.status.busy": "2023-01-04T12:14:50.064431Z",
          "iopub.execute_input": "2023-01-04T12:14:50.064782Z",
          "iopub.status.idle": "2023-01-04T12:14:50.075281Z",
          "shell.execute_reply.started": "2023-01-04T12:14:50.064748Z",
          "shell.execute_reply": "2023-01-04T12:14:50.074590Z"
        },
        "trusted": true,
        "id": "BB3d8T2a8oV4"
      },
      "execution_count": null,
      "outputs": []
    },
    {
      "cell_type": "code",
      "source": [
        "# checking numerical features distribution\n",
        "plt.figure(figsize = (20, 15))\n",
        "plotnumber = 1\n",
        "for column in num_cols:\n",
        "    if plotnumber <= 14:\n",
        "        ax = plt.subplot(3, 5, plotnumber)\n",
        "        sns.countplot(df[column], palette = 'rocket', color='black')\n",
        "        plt.xlabel(column)\n",
        "       \n",
        "    plotnumber += 1\n",
        "\n",
        "plt.tight_layout()\n",
        "plt.show()"
      ],
      "metadata": {
        "execution": {
          "iopub.status.busy": "2023-01-04T12:14:50.091230Z",
          "iopub.execute_input": "2023-01-04T12:14:50.091481Z",
          "iopub.status.idle": "2023-01-04T12:14:53.073052Z",
          "shell.execute_reply.started": "2023-01-04T12:14:50.091445Z",
          "shell.execute_reply": "2023-01-04T12:14:53.072204Z"
        },
        "trusted": true,
        "id": "k7O2ZkDl8oV4",
        "colab": {
          "base_uri": "https://localhost:8080/",
          "height": 899
        },
        "outputId": "2f957a9b-392f-4053-e110-259929c258d1"
      },
      "execution_count": null,
      "outputs": [
        {
          "output_type": "display_data",
          "data": {
            "text/plain": [
              "<Figure size 1440x1080 with 14 Axes>"
            ],
            "image/png": "[encoded data removed]"
          },
          "metadata": {
            "needs_background": "light"
          }
        }
      ]
    },
    {
      "cell_type": "code",
      "source": [
        "# looking at categorical columns\n",
        "\n",
        "plt.figure(figsize = (20, 15))\n",
        "plotnumber = 1\n",
        "for column in cat_cols:\n",
        "    if plotnumber <= 11:\n",
        "        ax = plt.subplot(3, 4, plotnumber)\n",
        "        sns.countplot(df[column], palette = 'rocket',color='copper')\n",
        "        plt.xlabel(column)\n",
        "        \n",
        "    plotnumber += 1\n",
        "\n",
        "plt.tight_layout()\n",
        "plt.show()"
      ],
      "metadata": {
        "execution": {
          "iopub.status.busy": "2023-01-04T12:14:53.074642Z",
          "iopub.execute_input": "2023-01-04T12:14:53.074944Z",
          "iopub.status.idle": "2023-01-04T12:14:54.097007Z",
          "shell.execute_reply.started": "2023-01-04T12:14:53.074899Z",
          "shell.execute_reply": "2023-01-04T12:14:54.096347Z"
        },
        "trusted": true,
        "id": "2vxkoIzz8oV6",
        "colab": {
          "base_uri": "https://localhost:8080/",
          "height": 899
        },
        "outputId": "fd182658-8c46-4a85-fd43-532cf0925a2c"
      },
      "execution_count": null,
      "outputs": [
        {
          "output_type": "display_data",
          "data": {
            "text/plain": [
              "<Figure size 1440x1080 with 10 Axes>"
            ],
            "image/png": "[encoded data removed]"
          },
          "metadata": {
            "needs_background": "light"
          }
        }
      ]
    },
    {
      "cell_type": "markdown",
      "source": [
        "# III. Exploratory Data Analysis (EDA)"
      ],
      "metadata": {
        "id": "bs8Upozc8oV9"
      }
    },
    {
      "cell_type": "code",
      "source": [
        "df = df[['blood_pressure', 'specific_gravity', 'albumin', 'sulfonylurea', 'blood_glucose_random', 'blood_urea', 'serum_creatinine',\n",
        "         'sodium', 'potassium', 'haemoglobin', 'packed_cell_volume', 'white_blood_cell_count', 'red_blood_cell_count', 'hypertension',\n",
        "         'pedal_edema', 'anemia', 'class']]"
      ],
      "metadata": {
        "id": "-RabQFjHiNfU"
      },
      "execution_count": null,
      "outputs": []
    },
    {
      "cell_type": "code",
      "source": [
        "df"
      ],
      "metadata": {
        "colab": {
          "base_uri": "https://localhost:8080/",
          "height": 487
        },
        "id": "UkJc8POniJAS",
        "outputId": "ebd6a139-232a-4e8d-ea6a-ee988622dd2f"
      },
      "execution_count": null,
      "outputs": [
        {
          "output_type": "execute_result",
          "data": {
            "text/plain": [
              "     blood_pressure  specific_gravity  albumin  sulfonylurea  \\\n",
              "0              80.0             1.020      1.0           0.0   \n",
              "1              50.0             1.020      4.0           0.0   \n",
              "2              80.0             1.010      2.0           3.0   \n",
              "3              70.0             1.005      4.0           0.0   \n",
              "4              80.0             1.010      2.0           0.0   \n",
              "..              ...               ...      ...           ...   \n",
              "395            80.0             1.020      0.0           0.0   \n",
              "396            70.0             1.025      0.0           0.0   \n",
              "397            80.0             1.020      0.0           0.0   \n",
              "398            60.0             1.025      0.0           0.0   \n",
              "399            80.0             1.025      0.0           0.0   \n",
              "\n",
              "     blood_glucose_random  blood_urea  serum_creatinine  sodium  potassium  \\\n",
              "0                   121.0        36.0               1.2     NaN        NaN   \n",
              "1                     NaN        18.0               0.8     NaN        NaN   \n",
              "2                   423.0        53.0               1.8     NaN        NaN   \n",
              "3                   117.0        56.0               3.8   111.0        2.5   \n",
              "4                   106.0        26.0               1.4     NaN        NaN   \n",
              "..                    ...         ...               ...     ...        ...   \n",
              "395                 140.0        49.0               0.5   150.0        4.9   \n",
              "396                  75.0        31.0               1.2   141.0        3.5   \n",
              "397                 100.0        26.0               0.6   137.0        4.4   \n",
              "398                 114.0        50.0               1.0   135.0        4.9   \n",
              "399                 131.0        18.0               1.1   141.0        3.5   \n",
              "\n",
              "     haemoglobin  packed_cell_volume  white_blood_cell_count  \\\n",
              "0           15.4                44.0                  7800.0   \n",
              "1           11.3                38.0                  6000.0   \n",
              "2            9.6                31.0                  7500.0   \n",
              "3           11.2                32.0                  6700.0   \n",
              "4           11.6                35.0                  7300.0   \n",
              "..           ...                 ...                     ...   \n",
              "395         15.7                47.0                  6700.0   \n",
              "396         16.5                54.0                  7800.0   \n",
              "397         15.8                49.0                  6600.0   \n",
              "398         14.2                51.0                  7200.0   \n",
              "399         15.8                53.0                  6800.0   \n",
              "\n",
              "     red_blood_cell_count hypertension pedal_edema anemia  class  \n",
              "0                     5.2          yes          no     no      0  \n",
              "1                     NaN           no          no     no      0  \n",
              "2                     NaN           no          no    yes      0  \n",
              "3                     3.9          yes         yes    yes      0  \n",
              "4                     4.6           no          no     no      0  \n",
              "..                    ...          ...         ...    ...    ...  \n",
              "395                   4.9           no          no     no      1  \n",
              "396                   6.2           no          no     no      1  \n",
              "397                   5.4           no          no     no      1  \n",
              "398                   5.9           no          no     no      1  \n",
              "399                   6.1           no          no     no      1  \n",
              "\n",
              "[400 rows x 17 columns]"
            ],
            "text/html": [
              "\n",
              "  <div id=\"df-580ecc0d-4e7a-4e00-bfc6-cefa8848b035\">\n",
              "    <div class=\"colab-df-container\">\n",
              "      <div>\n",
              "<style scoped>\n",
              "    .dataframe tbody tr th:only-of-type {\n",
              "        vertical-align: middle;\n",
              "    }\n",
              "\n",
              "    .dataframe tbody tr th {\n",
              "        vertical-align: top;\n",
              "    }\n",
              "\n",
              "    .dataframe thead th {\n",
              "        text-align: right;\n",
              "    }\n",
              "</style>\n",
              "<table border=\"1\" class=\"dataframe\">\n",
              "  <thead>\n",
              "    <tr style=\"text-align: right;\">\n",
              "      <th></th>\n",
              "      <th>blood_pressure</th>\n",
              "      <th>specific_gravity</th>\n",
              "      <th>albumin</th>\n",
              "      <th>sulfonylurea</th>\n",
              "      <th>blood_glucose_random</th>\n",
              "      <th>blood_urea</th>\n",
              "      <th>serum_creatinine</th>\n",
              "      <th>sodium</th>\n",
              "      <th>potassium</th>\n",
              "      <th>haemoglobin</th>\n",
              "      <th>packed_cell_volume</th>\n",
              "      <th>white_blood_cell_count</th>\n",
              "      <th>red_blood_cell_count</th>\n",
              "      <th>hypertension</th>\n",
              "      <th>pedal_edema</th>\n",
              "      <th>anemia</th>\n",
              "      <th>class</th>\n",
              "    </tr>\n",
              "  </thead>\n",
              "  <tbody>\n",
              "    <tr>\n",
              "      <th>0</th>\n",
              "      <td>80.0</td>\n",
              "      <td>1.020</td>\n",
              "      <td>1.0</td>\n",
              "      <td>0.0</td>\n",
              "      <td>121.0</td>\n",
              "      <td>36.0</td>\n",
              "      <td>1.2</td>\n",
              "      <td>NaN</td>\n",
              "      <td>NaN</td>\n",
              "      <td>15.4</td>\n",
              "      <td>44.0</td>\n",
              "      <td>7800.0</td>\n",
              "      <td>5.2</td>\n",
              "      <td>yes</td>\n",
              "      <td>no</td>\n",
              "      <td>no</td>\n",
              "      <td>0</td>\n",
              "    </tr>\n",
              "    <tr>\n",
              "      <th>1</th>\n",
              "      <td>50.0</td>\n",
              "      <td>1.020</td>\n",
              "      <td>4.0</td>\n",
              "      <td>0.0</td>\n",
              "      <td>NaN</td>\n",
              "      <td>18.0</td>\n",
              "      <td>0.8</td>\n",
              "      <td>NaN</td>\n",
              "      <td>NaN</td>\n",
              "      <td>11.3</td>\n",
              "      <td>38.0</td>\n",
              "      <td>6000.0</td>\n",
              "      <td>NaN</td>\n",
              "      <td>no</td>\n",
              "      <td>no</td>\n",
              "      <td>no</td>\n",
              "      <td>0</td>\n",
              "    </tr>\n",
              "    <tr>\n",
              "      <th>2</th>\n",
              "      <td>80.0</td>\n",
              "      <td>1.010</td>\n",
              "      <td>2.0</td>\n",
              "      <td>3.0</td>\n",
              "      <td>423.0</td>\n",
              "      <td>53.0</td>\n",
              "      <td>1.8</td>\n",
              "      <td>NaN</td>\n",
              "      <td>NaN</td>\n",
              "      <td>9.6</td>\n",
              "      <td>31.0</td>\n",
              "      <td>7500.0</td>\n",
              "      <td>NaN</td>\n",
              "      <td>no</td>\n",
              "      <td>no</td>\n",
              "      <td>yes</td>\n",
              "      <td>0</td>\n",
              "    </tr>\n",
              "    <tr>\n",
              "      <th>3</th>\n",
              "      <td>70.0</td>\n",
              "      <td>1.005</td>\n",
              "      <td>4.0</td>\n",
              "      <td>0.0</td>\n",
              "      <td>117.0</td>\n",
              "      <td>56.0</td>\n",
              "      <td>3.8</td>\n",
              "      <td>111.0</td>\n",
              "      <td>2.5</td>\n",
              "      <td>11.2</td>\n",
              "      <td>32.0</td>\n",
              "      <td>6700.0</td>\n",
              "      <td>3.9</td>\n",
              "      <td>yes</td>\n",
              "      <td>yes</td>\n",
              "      <td>yes</td>\n",
              "      <td>0</td>\n",
              "    </tr>\n",
              "    <tr>\n",
              "      <th>4</th>\n",
              "      <td>80.0</td>\n",
              "      <td>1.010</td>\n",
              "      <td>2.0</td>\n",
              "      <td>0.0</td>\n",
              "      <td>106.0</td>\n",
              "      <td>26.0</td>\n",
              "      <td>1.4</td>\n",
              "      <td>NaN</td>\n",
              "      <td>NaN</td>\n",
              "      <td>11.6</td>\n",
              "      <td>35.0</td>\n",
              "      <td>7300.0</td>\n",
              "      <td>4.6</td>\n",
              "      <td>no</td>\n",
              "      <td>no</td>\n",
              "      <td>no</td>\n",
              "      <td>0</td>\n",
              "    </tr>\n",
              "    <tr>\n",
              "      <th>...</th>\n",
              "      <td>...</td>\n",
              "      <td>...</td>\n",
              "      <td>...</td>\n",
              "      <td>...</td>\n",
              "      <td>...</td>\n",
              "      <td>...</td>\n",
              "      <td>...</td>\n",
              "      <td>...</td>\n",
              "      <td>...</td>\n",
              "      <td>...</td>\n",
              "      <td>...</td>\n",
              "      <td>...</td>\n",
              "      <td>...</td>\n",
              "      <td>...</td>\n",
              "      <td>...</td>\n",
              "      <td>...</td>\n",
              "      <td>...</td>\n",
              "    </tr>\n",
              "    <tr>\n",
              "      <th>395</th>\n",
              "      <td>80.0</td>\n",
              "      <td>1.020</td>\n",
              "      <td>0.0</td>\n",
              "      <td>0.0</td>\n",
              "      <td>140.0</td>\n",
              "      <td>49.0</td>\n",
              "      <td>0.5</td>\n",
              "      <td>150.0</td>\n",
              "      <td>4.9</td>\n",
              "      <td>15.7</td>\n",
              "      <td>47.0</td>\n",
              "      <td>6700.0</td>\n",
              "      <td>4.9</td>\n",
              "      <td>no</td>\n",
              "      <td>no</td>\n",
              "      <td>no</td>\n",
              "      <td>1</td>\n",
              "    </tr>\n",
              "    <tr>\n",
              "      <th>396</th>\n",
              "      <td>70.0</td>\n",
              "      <td>1.025</td>\n",
              "      <td>0.0</td>\n",
              "      <td>0.0</td>\n",
              "      <td>75.0</td>\n",
              "      <td>31.0</td>\n",
              "      <td>1.2</td>\n",
              "      <td>141.0</td>\n",
              "      <td>3.5</td>\n",
              "      <td>16.5</td>\n",
              "      <td>54.0</td>\n",
              "      <td>7800.0</td>\n",
              "      <td>6.2</td>\n",
              "      <td>no</td>\n",
              "      <td>no</td>\n",
              "      <td>no</td>\n",
              "      <td>1</td>\n",
              "    </tr>\n",
              "    <tr>\n",
              "      <th>397</th>\n",
              "      <td>80.0</td>\n",
              "      <td>1.020</td>\n",
              "      <td>0.0</td>\n",
              "      <td>0.0</td>\n",
              "      <td>100.0</td>\n",
              "      <td>26.0</td>\n",
              "      <td>0.6</td>\n",
              "      <td>137.0</td>\n",
              "      <td>4.4</td>\n",
              "      <td>15.8</td>\n",
              "      <td>49.0</td>\n",
              "      <td>6600.0</td>\n",
              "      <td>5.4</td>\n",
              "      <td>no</td>\n",
              "      <td>no</td>\n",
              "      <td>no</td>\n",
              "      <td>1</td>\n",
              "    </tr>\n",
              "    <tr>\n",
              "      <th>398</th>\n",
              "      <td>60.0</td>\n",
              "      <td>1.025</td>\n",
              "      <td>0.0</td>\n",
              "      <td>0.0</td>\n",
              "      <td>114.0</td>\n",
              "      <td>50.0</td>\n",
              "      <td>1.0</td>\n",
              "      <td>135.0</td>\n",
              "      <td>4.9</td>\n",
              "      <td>14.2</td>\n",
              "      <td>51.0</td>\n",
              "      <td>7200.0</td>\n",
              "      <td>5.9</td>\n",
              "      <td>no</td>\n",
              "      <td>no</td>\n",
              "      <td>no</td>\n",
              "      <td>1</td>\n",
              "    </tr>\n",
              "    <tr>\n",
              "      <th>399</th>\n",
              "      <td>80.0</td>\n",
              "      <td>1.025</td>\n",
              "      <td>0.0</td>\n",
              "      <td>0.0</td>\n",
              "      <td>131.0</td>\n",
              "      <td>18.0</td>\n",
              "      <td>1.1</td>\n",
              "      <td>141.0</td>\n",
              "      <td>3.5</td>\n",
              "      <td>15.8</td>\n",
              "      <td>53.0</td>\n",
              "      <td>6800.0</td>\n",
              "      <td>6.1</td>\n",
              "      <td>no</td>\n",
              "      <td>no</td>\n",
              "      <td>no</td>\n",
              "      <td>1</td>\n",
              "    </tr>\n",
              "  </tbody>\n",
              "</table>\n",
              "<p>400 rows × 17 columns</p>\n",
              "</div>\n",
              "      <button class=\"colab-df-convert\" onclick=\"convertToInteractive('df-580ecc0d-4e7a-4e00-bfc6-cefa8848b035')\"\n",
              "              title=\"Convert this dataframe to an interactive table.\"\n",
              "              style=\"display:none;\">\n",
              "        \n",
              "  <svg xmlns=\"http://www.w3.org/2000/svg\" height=\"24px\"viewBox=\"0 0 24 24\"\n",
              "       width=\"24px\">\n",
              "    <path d=\"M0 0h24v24H0V0z\" fill=\"none\"/>\n",
              "    <path d=\"M18.56 5.44l.94 2.06.94-2.06 2.06-.94-2.06-.94-.94-2.06-.94 2.06-2.06.94zm-11 1L8.5 8.5l.94-2.06 2.06-.94-2.06-.94L8.5 2.5l-.94 2.06-2.06.94zm10 10l.94 2.06.94-2.06 2.06-.94-2.06-.94-.94-2.06-.94 2.06-2.06.94z\"/><path d=\"M17.41 7.96l-1.37-1.37c-.4-.4-.92-.59-1.43-.59-.52 0-1.04.2-1.43.59L10.3 9.45l-7.72 7.72c-.78.78-.78 2.05 0 2.83L4 21.41c.39.39.9.59 1.41.59.51 0 1.02-.2 1.41-.59l7.78-7.78 2.81-2.81c.8-.78.8-2.07 0-2.86zM5.41 20L4 18.59l7.72-7.72 1.47 1.35L5.41 20z\"/>\n",
              "  </svg>\n",
              "      </button>\n",
              "      \n",
              "  <style>\n",
              "    .colab-df-container {\n",
              "      display:flex;\n",
              "      flex-wrap:wrap;\n",
              "      gap: 12px;\n",
              "    }\n",
              "\n",
              "    .colab-df-convert {\n",
              "      background-color: #E8F0FE;\n",
              "      border: none;\n",
              "      border-radius: 50%;\n",
              "      cursor: pointer;\n",
              "      display: none;\n",
              "      fill: #1967D2;\n",
              "      height: 32px;\n",
              "      padding: 0 0 0 0;\n",
              "      width: 32px;\n",
              "    }\n",
              "\n",
              "    .colab-df-convert:hover {\n",
              "      background-color: #E2EBFA;\n",
              "      box-shadow: 0px 1px 2px rgba(60, 64, 67, 0.3), 0px 1px 3px 1px rgba(60, 64, 67, 0.15);\n",
              "      fill: #174EA6;\n",
              "    }\n",
              "\n",
              "    [theme=dark] .colab-df-convert {\n",
              "      background-color: #3B4455;\n",
              "      fill: #D2E3FC;\n",
              "    }\n",
              "\n",
              "    [theme=dark] .colab-df-convert:hover {\n",
              "      background-color: #434B5C;\n",
              "      box-shadow: 0px 1px 3px 1px rgba(0, 0, 0, 0.15);\n",
              "      filter: drop-shadow(0px 1px 2px rgba(0, 0, 0, 0.3));\n",
              "      fill: #FFFFFF;\n",
              "    }\n",
              "  </style>\n",
              "\n",
              "      <script>\n",
              "        const buttonEl =\n",
              "          document.querySelector('#df-580ecc0d-4e7a-4e00-bfc6-cefa8848b035 button.colab-df-convert');\n",
              "        buttonEl.style.display =\n",
              "          google.colab.kernel.accessAllowed ? 'block' : 'none';\n",
              "\n",
              "        async function convertToInteractive(key) {\n",
              "          const element = document.querySelector('#df-580ecc0d-4e7a-4e00-bfc6-cefa8848b035');\n",
              "          const dataTable =\n",
              "            await google.colab.kernel.invokeFunction('convertToInteractive',\n",
              "                                                     [key], {});\n",
              "          if (!dataTable) return;\n",
              "\n",
              "          const docLinkHtml = 'Like what you see? Visit the ' +\n",
              "            '<a target=\"_blank\" href=https://colab.research.google.com/notebooks/data_table.ipynb>data table notebook</a>'\n",
              "            + ' to learn more about interactive tables.';\n",
              "          element.innerHTML = '';\n",
              "          dataTable['output_type'] = 'display_data';\n",
              "          await google.colab.output.renderOutput(dataTable, element);\n",
              "          const docLink = document.createElement('div');\n",
              "          docLink.innerHTML = docLinkHtml;\n",
              "          element.appendChild(docLink);\n",
              "        }\n",
              "      </script>\n",
              "    </div>\n",
              "  </div>\n",
              "  "
            ]
          },
          "metadata": {},
          "execution_count": 24
        }
      ]
    },
    {
      "cell_type": "code",
      "source": [
        "# checking for null values and correct it\n",
        "\n",
        "df.isna().sum().sort_values(ascending = False)"
      ],
      "metadata": {
        "execution": {
          "iopub.status.busy": "2023-01-04T12:14:55.858718Z",
          "iopub.execute_input": "2023-01-04T12:14:55.859028Z",
          "iopub.status.idle": "2023-01-04T12:14:55.869310Z",
          "shell.execute_reply.started": "2023-01-04T12:14:55.858995Z",
          "shell.execute_reply": "2023-01-04T12:14:55.868419Z"
        },
        "trusted": true,
        "colab": {
          "base_uri": "https://localhost:8080/"
        },
        "id": "8Kbfu5of8oV9",
        "outputId": "e7497e0f-79e6-45d1-bb94-253fc342f2a3"
      },
      "execution_count": null,
      "outputs": [
        {
          "output_type": "execute_result",
          "data": {
            "text/plain": [
              "red_blood_cell_count      131\n",
              "white_blood_cell_count    106\n",
              "potassium                  88\n",
              "sodium                     87\n",
              "packed_cell_volume         71\n",
              "haemoglobin                52\n",
              "sulfonylurea               49\n",
              "specific_gravity           47\n",
              "albumin                    46\n",
              "blood_glucose_random       44\n",
              "blood_urea                 19\n",
              "serum_creatinine           17\n",
              "blood_pressure             12\n",
              "hypertension                2\n",
              "pedal_edema                 1\n",
              "anemia                      1\n",
              "class                       0\n",
              "dtype: int64"
            ]
          },
          "metadata": {},
          "execution_count": 25
        }
      ]
    },
    {
      "cell_type": "code",
      "source": [
        "num_cols = df.select_dtypes(include=np.number).columns.tolist()"
      ],
      "metadata": {
        "id": "-kOSAD4licNs"
      },
      "execution_count": null,
      "outputs": []
    },
    {
      "cell_type": "code",
      "source": [
        "df[num_cols].isnull().sum()"
      ],
      "metadata": {
        "execution": {
          "iopub.status.busy": "2023-01-04T12:14:55.870396Z",
          "iopub.execute_input": "2023-01-04T12:14:55.870607Z",
          "iopub.status.idle": "2023-01-04T12:14:55.880787Z",
          "shell.execute_reply.started": "2023-01-04T12:14:55.870582Z",
          "shell.execute_reply": "2023-01-04T12:14:55.879911Z"
        },
        "trusted": true,
        "colab": {
          "base_uri": "https://localhost:8080/"
        },
        "id": "IjV2Psb-8oV9",
        "outputId": "f9c25f51-a267-43d4-e680-b91158920caa"
      },
      "execution_count": null,
      "outputs": [
        {
          "output_type": "execute_result",
          "data": {
            "text/plain": [
              "blood_pressure             12\n",
              "specific_gravity           47\n",
              "albumin                    46\n",
              "sulfonylurea               49\n",
              "blood_glucose_random       44\n",
              "blood_urea                 19\n",
              "serum_creatinine           17\n",
              "sodium                     87\n",
              "potassium                  88\n",
              "haemoglobin                52\n",
              "packed_cell_volume         71\n",
              "white_blood_cell_count    106\n",
              "red_blood_cell_count      131\n",
              "class                       0\n",
              "dtype: int64"
            ]
          },
          "metadata": {},
          "execution_count": 27
        }
      ]
    },
    {
      "cell_type": "code",
      "source": [
        "cat_cols = list(set(df.columns) - set(num_cols))"
      ],
      "metadata": {
        "id": "XZwpZO35iy9E"
      },
      "execution_count": null,
      "outputs": []
    },
    {
      "cell_type": "markdown",
      "source": [
        "# IV. Data Preprocessing"
      ],
      "metadata": {
        "id": "mt9FCYPN-KLS"
      }
    },
    {
      "cell_type": "code",
      "source": [
        "df[cat_cols].isnull().sum()"
      ],
      "metadata": {
        "execution": {
          "iopub.status.busy": "2023-01-04T12:14:55.882266Z",
          "iopub.execute_input": "2023-01-04T12:14:55.882513Z",
          "iopub.status.idle": "2023-01-04T12:14:55.891381Z",
          "shell.execute_reply.started": "2023-01-04T12:14:55.882482Z",
          "shell.execute_reply": "2023-01-04T12:14:55.890140Z"
        },
        "trusted": true,
        "colab": {
          "base_uri": "https://localhost:8080/"
        },
        "id": "PFJQHKmt8oV9",
        "outputId": "3c527c42-9eba-4dfe-9d7a-8d5dd43fad7f"
      },
      "execution_count": null,
      "outputs": [
        {
          "output_type": "execute_result",
          "data": {
            "text/plain": [
              "pedal_edema     1\n",
              "hypertension    2\n",
              "anemia          1\n",
              "dtype: int64"
            ]
          },
          "metadata": {},
          "execution_count": 29
        }
      ]
    },
    {
      "cell_type": "code",
      "source": [
        "def impute_mean(feature):\n",
        "    df[feature] = df[feature].fillna(df[feature].mean())\n",
        "    \n",
        "def impute_mode(feature):\n",
        "    df[feature] = df[feature].fillna(df[feature].mode()[0])"
      ],
      "metadata": {
        "execution": {
          "iopub.status.busy": "2023-01-04T12:14:55.892629Z",
          "iopub.execute_input": "2023-01-04T12:14:55.892880Z",
          "iopub.status.idle": "2023-01-04T12:14:55.899394Z",
          "shell.execute_reply.started": "2023-01-04T12:14:55.892846Z",
          "shell.execute_reply": "2023-01-04T12:14:55.898605Z"
        },
        "trusted": true,
        "id": "2-BuavHw8oV-"
      },
      "execution_count": null,
      "outputs": []
    },
    {
      "cell_type": "code",
      "source": [
        "# filling num_cols null values using random sampling method\n",
        "\n",
        "for col in num_cols:\n",
        "    impute_mean(col)\n",
        "df[num_cols].isnull().sum()"
      ],
      "metadata": {
        "execution": {
          "iopub.status.busy": "2023-01-04T12:14:55.900373Z",
          "iopub.execute_input": "2023-01-04T12:14:55.900683Z",
          "iopub.status.idle": "2023-01-04T12:14:55.939048Z",
          "shell.execute_reply.started": "2023-01-04T12:14:55.900651Z",
          "shell.execute_reply": "2023-01-04T12:14:55.938408Z"
        },
        "trusted": true,
        "colab": {
          "base_uri": "https://localhost:8080/"
        },
        "id": "wyhFjMol8oV-",
        "outputId": "9e300b98-808f-458e-8694-05af7fa0d183"
      },
      "execution_count": null,
      "outputs": [
        {
          "output_type": "execute_result",
          "data": {
            "text/plain": [
              "blood_pressure            0\n",
              "specific_gravity          0\n",
              "albumin                   0\n",
              "sulfonylurea              0\n",
              "blood_glucose_random      0\n",
              "blood_urea                0\n",
              "serum_creatinine          0\n",
              "sodium                    0\n",
              "potassium                 0\n",
              "haemoglobin               0\n",
              "packed_cell_volume        0\n",
              "white_blood_cell_count    0\n",
              "red_blood_cell_count      0\n",
              "class                     0\n",
              "dtype: int64"
            ]
          },
          "metadata": {},
          "execution_count": 31
        }
      ]
    },
    {
      "cell_type": "code",
      "source": [
        "for col in cat_cols:\n",
        "    impute_mode(col)\n",
        "df[cat_cols].isnull().sum()"
      ],
      "metadata": {
        "execution": {
          "iopub.status.busy": "2023-01-04T12:14:55.941523Z",
          "iopub.execute_input": "2023-01-04T12:14:55.941740Z",
          "iopub.status.idle": "2023-01-04T12:14:55.961103Z",
          "shell.execute_reply.started": "2023-01-04T12:14:55.941717Z",
          "shell.execute_reply": "2023-01-04T12:14:55.960454Z"
        },
        "trusted": true,
        "colab": {
          "base_uri": "https://localhost:8080/"
        },
        "id": "RrdCx17T8oV-",
        "outputId": "6f371afe-2d53-4d9f-c886-1dea9e19f166"
      },
      "execution_count": null,
      "outputs": [
        {
          "output_type": "execute_result",
          "data": {
            "text/plain": [
              "pedal_edema     0\n",
              "hypertension    0\n",
              "anemia          0\n",
              "dtype: int64"
            ]
          },
          "metadata": {},
          "execution_count": 32
        }
      ]
    },
    {
      "cell_type": "markdown",
      "source": [
        "## Feature Encoding "
      ],
      "metadata": {
        "id": "YwhtVqSB8oV-"
      }
    },
    {
      "cell_type": "code",
      "source": [
        "for col in cat_cols:\n",
        "    print(f\"{col} has {df[col].nunique()} categories\\n\")"
      ],
      "metadata": {
        "execution": {
          "iopub.status.busy": "2023-01-04T12:14:55.962358Z",
          "iopub.execute_input": "2023-01-04T12:14:55.962626Z",
          "iopub.status.idle": "2023-01-04T12:14:55.978443Z",
          "shell.execute_reply.started": "2023-01-04T12:14:55.962590Z",
          "shell.execute_reply": "2023-01-04T12:14:55.977637Z"
        },
        "trusted": true,
        "colab": {
          "base_uri": "https://localhost:8080/"
        },
        "id": "WMLJspu48oV-",
        "outputId": "68d33fa0-7cee-4484-8ab5-b815d0b2cd43"
      },
      "execution_count": null,
      "outputs": [
        {
          "output_type": "stream",
          "name": "stdout",
          "text": [
            "pedal_edema has 2 categories\n",
            "\n",
            "hypertension has 2 categories\n",
            "\n",
            "anemia has 2 categories\n",
            "\n"
          ]
        }
      ]
    },
    {
      "cell_type": "markdown",
      "source": [
        "## Label Encoder"
      ],
      "metadata": {
        "id": "INXQ5UR78oV_"
      }
    },
    {
      "cell_type": "code",
      "source": [
        "df.head()"
      ],
      "metadata": {
        "colab": {
          "base_uri": "https://localhost:8080/",
          "height": 270
        },
        "id": "OLbm7e8zAInw",
        "outputId": "6c0afbac-59a2-4829-b91a-ead35450f179"
      },
      "execution_count": null,
      "outputs": [
        {
          "output_type": "execute_result",
          "data": {
            "text/plain": [
              "   blood_pressure  specific_gravity  albumin  sulfonylurea  \\\n",
              "0            80.0             1.020      1.0           0.0   \n",
              "1            50.0             1.020      4.0           0.0   \n",
              "2            80.0             1.010      2.0           3.0   \n",
              "3            70.0             1.005      4.0           0.0   \n",
              "4            80.0             1.010      2.0           0.0   \n",
              "\n",
              "   blood_glucose_random  blood_urea  serum_creatinine      sodium  potassium  \\\n",
              "0            121.000000        36.0               1.2  137.528754   4.627244   \n",
              "1            148.036517        18.0               0.8  137.528754   4.627244   \n",
              "2            423.000000        53.0               1.8  137.528754   4.627244   \n",
              "3            117.000000        56.0               3.8  111.000000   2.500000   \n",
              "4            106.000000        26.0               1.4  137.528754   4.627244   \n",
              "\n",
              "   haemoglobin  packed_cell_volume  white_blood_cell_count  \\\n",
              "0         15.4                44.0                  7800.0   \n",
              "1         11.3                38.0                  6000.0   \n",
              "2          9.6                31.0                  7500.0   \n",
              "3         11.2                32.0                  6700.0   \n",
              "4         11.6                35.0                  7300.0   \n",
              "\n",
              "   red_blood_cell_count hypertension pedal_edema anemia  class  \n",
              "0              5.200000          yes          no     no      0  \n",
              "1              4.707435           no          no     no      0  \n",
              "2              4.707435           no          no    yes      0  \n",
              "3              3.900000          yes         yes    yes      0  \n",
              "4              4.600000           no          no     no      0  "
            ],
            "text/html": [
              "\n",
              "  <div id=\"df-9631646e-0970-48b0-be6e-16fee4debbd9\">\n",
              "    <div class=\"colab-df-container\">\n",
              "      <div>\n",
              "<style scoped>\n",
              "    .dataframe tbody tr th:only-of-type {\n",
              "        vertical-align: middle;\n",
              "    }\n",
              "\n",
              "    .dataframe tbody tr th {\n",
              "        vertical-align: top;\n",
              "    }\n",
              "\n",
              "    .dataframe thead th {\n",
              "        text-align: right;\n",
              "    }\n",
              "</style>\n",
              "<table border=\"1\" class=\"dataframe\">\n",
              "  <thead>\n",
              "    <tr style=\"text-align: right;\">\n",
              "      <th></th>\n",
              "      <th>blood_pressure</th>\n",
              "      <th>specific_gravity</th>\n",
              "      <th>albumin</th>\n",
              "      <th>sulfonylurea</th>\n",
              "      <th>blood_glucose_random</th>\n",
              "      <th>blood_urea</th>\n",
              "      <th>serum_creatinine</th>\n",
              "      <th>sodium</th>\n",
              "      <th>potassium</th>\n",
              "      <th>haemoglobin</th>\n",
              "      <th>packed_cell_volume</th>\n",
              "      <th>white_blood_cell_count</th>\n",
              "      <th>red_blood_cell_count</th>\n",
              "      <th>hypertension</th>\n",
              "      <th>pedal_edema</th>\n",
              "      <th>anemia</th>\n",
              "      <th>class</th>\n",
              "    </tr>\n",
              "  </thead>\n",
              "  <tbody>\n",
              "    <tr>\n",
              "      <th>0</th>\n",
              "      <td>80.0</td>\n",
              "      <td>1.020</td>\n",
              "      <td>1.0</td>\n",
              "      <td>0.0</td>\n",
              "      <td>121.000000</td>\n",
              "      <td>36.0</td>\n",
              "      <td>1.2</td>\n",
              "      <td>137.528754</td>\n",
              "      <td>4.627244</td>\n",
              "      <td>15.4</td>\n",
              "      <td>44.0</td>\n",
              "      <td>7800.0</td>\n",
              "      <td>5.200000</td>\n",
              "      <td>yes</td>\n",
              "      <td>no</td>\n",
              "      <td>no</td>\n",
              "      <td>0</td>\n",
              "    </tr>\n",
              "    <tr>\n",
              "      <th>1</th>\n",
              "      <td>50.0</td>\n",
              "      <td>1.020</td>\n",
              "      <td>4.0</td>\n",
              "      <td>0.0</td>\n",
              "      <td>148.036517</td>\n",
              "      <td>18.0</td>\n",
              "      <td>0.8</td>\n",
              "      <td>137.528754</td>\n",
              "      <td>4.627244</td>\n",
              "      <td>11.3</td>\n",
              "      <td>38.0</td>\n",
              "      <td>6000.0</td>\n",
              "      <td>4.707435</td>\n",
              "      <td>no</td>\n",
              "      <td>no</td>\n",
              "      <td>no</td>\n",
              "      <td>0</td>\n",
              "    </tr>\n",
              "    <tr>\n",
              "      <th>2</th>\n",
              "      <td>80.0</td>\n",
              "      <td>1.010</td>\n",
              "      <td>2.0</td>\n",
              "      <td>3.0</td>\n",
              "      <td>423.000000</td>\n",
              "      <td>53.0</td>\n",
              "      <td>1.8</td>\n",
              "      <td>137.528754</td>\n",
              "      <td>4.627244</td>\n",
              "      <td>9.6</td>\n",
              "      <td>31.0</td>\n",
              "      <td>7500.0</td>\n",
              "      <td>4.707435</td>\n",
              "      <td>no</td>\n",
              "      <td>no</td>\n",
              "      <td>yes</td>\n",
              "      <td>0</td>\n",
              "    </tr>\n",
              "    <tr>\n",
              "      <th>3</th>\n",
              "      <td>70.0</td>\n",
              "      <td>1.005</td>\n",
              "      <td>4.0</td>\n",
              "      <td>0.0</td>\n",
              "      <td>117.000000</td>\n",
              "      <td>56.0</td>\n",
              "      <td>3.8</td>\n",
              "      <td>111.000000</td>\n",
              "      <td>2.500000</td>\n",
              "      <td>11.2</td>\n",
              "      <td>32.0</td>\n",
              "      <td>6700.0</td>\n",
              "      <td>3.900000</td>\n",
              "      <td>yes</td>\n",
              "      <td>yes</td>\n",
              "      <td>yes</td>\n",
              "      <td>0</td>\n",
              "    </tr>\n",
              "    <tr>\n",
              "      <th>4</th>\n",
              "      <td>80.0</td>\n",
              "      <td>1.010</td>\n",
              "      <td>2.0</td>\n",
              "      <td>0.0</td>\n",
              "      <td>106.000000</td>\n",
              "      <td>26.0</td>\n",
              "      <td>1.4</td>\n",
              "      <td>137.528754</td>\n",
              "      <td>4.627244</td>\n",
              "      <td>11.6</td>\n",
              "      <td>35.0</td>\n",
              "      <td>7300.0</td>\n",
              "      <td>4.600000</td>\n",
              "      <td>no</td>\n",
              "      <td>no</td>\n",
              "      <td>no</td>\n",
              "      <td>0</td>\n",
              "    </tr>\n",
              "  </tbody>\n",
              "</table>\n",
              "</div>\n",
              "      <button class=\"colab-df-convert\" onclick=\"convertToInteractive('df-9631646e-0970-48b0-be6e-16fee4debbd9')\"\n",
              "              title=\"Convert this dataframe to an interactive table.\"\n",
              "              style=\"display:none;\">\n",
              "        \n",
              "  <svg xmlns=\"http://www.w3.org/2000/svg\" height=\"24px\"viewBox=\"0 0 24 24\"\n",
              "       width=\"24px\">\n",
              "    <path d=\"M0 0h24v24H0V0z\" fill=\"none\"/>\n",
              "    <path d=\"M18.56 5.44l.94 2.06.94-2.06 2.06-.94-2.06-.94-.94-2.06-.94 2.06-2.06.94zm-11 1L8.5 8.5l.94-2.06 2.06-.94-2.06-.94L8.5 2.5l-.94 2.06-2.06.94zm10 10l.94 2.06.94-2.06 2.06-.94-2.06-.94-.94-2.06-.94 2.06-2.06.94z\"/><path d=\"M17.41 7.96l-1.37-1.37c-.4-.4-.92-.59-1.43-.59-.52 0-1.04.2-1.43.59L10.3 9.45l-7.72 7.72c-.78.78-.78 2.05 0 2.83L4 21.41c.39.39.9.59 1.41.59.51 0 1.02-.2 1.41-.59l7.78-7.78 2.81-2.81c.8-.78.8-2.07 0-2.86zM5.41 20L4 18.59l7.72-7.72 1.47 1.35L5.41 20z\"/>\n",
              "  </svg>\n",
              "      </button>\n",
              "      \n",
              "  <style>\n",
              "    .colab-df-container {\n",
              "      display:flex;\n",
              "      flex-wrap:wrap;\n",
              "      gap: 12px;\n",
              "    }\n",
              "\n",
              "    .colab-df-convert {\n",
              "      background-color: #E8F0FE;\n",
              "      border: none;\n",
              "      border-radius: 50%;\n",
              "      cursor: pointer;\n",
              "      display: none;\n",
              "      fill: #1967D2;\n",
              "      height: 32px;\n",
              "      padding: 0 0 0 0;\n",
              "      width: 32px;\n",
              "    }\n",
              "\n",
              "    .colab-df-convert:hover {\n",
              "      background-color: #E2EBFA;\n",
              "      box-shadow: 0px 1px 2px rgba(60, 64, 67, 0.3), 0px 1px 3px 1px rgba(60, 64, 67, 0.15);\n",
              "      fill: #174EA6;\n",
              "    }\n",
              "\n",
              "    [theme=dark] .colab-df-convert {\n",
              "      background-color: #3B4455;\n",
              "      fill: #D2E3FC;\n",
              "    }\n",
              "\n",
              "    [theme=dark] .colab-df-convert:hover {\n",
              "      background-color: #434B5C;\n",
              "      box-shadow: 0px 1px 3px 1px rgba(0, 0, 0, 0.15);\n",
              "      filter: drop-shadow(0px 1px 2px rgba(0, 0, 0, 0.3));\n",
              "      fill: #FFFFFF;\n",
              "    }\n",
              "  </style>\n",
              "\n",
              "      <script>\n",
              "        const buttonEl =\n",
              "          document.querySelector('#df-9631646e-0970-48b0-be6e-16fee4debbd9 button.colab-df-convert');\n",
              "        buttonEl.style.display =\n",
              "          google.colab.kernel.accessAllowed ? 'block' : 'none';\n",
              "\n",
              "        async function convertToInteractive(key) {\n",
              "          const element = document.querySelector('#df-9631646e-0970-48b0-be6e-16fee4debbd9');\n",
              "          const dataTable =\n",
              "            await google.colab.kernel.invokeFunction('convertToInteractive',\n",
              "                                                     [key], {});\n",
              "          if (!dataTable) return;\n",
              "\n",
              "          const docLinkHtml = 'Like what you see? Visit the ' +\n",
              "            '<a target=\"_blank\" href=https://colab.research.google.com/notebooks/data_table.ipynb>data table notebook</a>'\n",
              "            + ' to learn more about interactive tables.';\n",
              "          element.innerHTML = '';\n",
              "          dataTable['output_type'] = 'display_data';\n",
              "          await google.colab.output.renderOutput(dataTable, element);\n",
              "          const docLink = document.createElement('div');\n",
              "          docLink.innerHTML = docLinkHtml;\n",
              "          element.appendChild(docLink);\n",
              "        }\n",
              "      </script>\n",
              "    </div>\n",
              "  </div>\n",
              "  "
            ]
          },
          "metadata": {},
          "execution_count": 34
        }
      ]
    },
    {
      "cell_type": "code",
      "source": [
        "from sklearn.preprocessing import LabelEncoder\n",
        "\n",
        "le = LabelEncoder()\n",
        "\n",
        "for col in cat_cols:\n",
        "    df[col] = le.fit_transform(df[col])"
      ],
      "metadata": {
        "execution": {
          "iopub.status.busy": "2023-01-04T12:14:55.980082Z",
          "iopub.execute_input": "2023-01-04T12:14:55.980411Z",
          "iopub.status.idle": "2023-01-04T12:14:55.991112Z",
          "shell.execute_reply.started": "2023-01-04T12:14:55.980373Z",
          "shell.execute_reply": "2023-01-04T12:14:55.990441Z"
        },
        "trusted": true,
        "id": "w5SmX5gl8oV_"
      },
      "execution_count": null,
      "outputs": []
    },
    {
      "cell_type": "code",
      "source": [
        "df.head()"
      ],
      "metadata": {
        "execution": {
          "iopub.status.busy": "2023-01-04T12:14:55.992311Z",
          "iopub.execute_input": "2023-01-04T12:14:55.992678Z",
          "iopub.status.idle": "2023-01-04T12:14:56.019170Z",
          "shell.execute_reply.started": "2023-01-04T12:14:55.992642Z",
          "shell.execute_reply": "2023-01-04T12:14:56.018429Z"
        },
        "trusted": true,
        "colab": {
          "base_uri": "https://localhost:8080/",
          "height": 270
        },
        "id": "frHJhHY88oV_",
        "outputId": "1eb534bc-ae6c-4e37-ee42-ab859c1292f1"
      },
      "execution_count": null,
      "outputs": [
        {
          "output_type": "execute_result",
          "data": {
            "text/plain": [
              "   blood_pressure  specific_gravity  albumin  sulfonylurea  \\\n",
              "0            80.0             1.020      1.0           0.0   \n",
              "1            50.0             1.020      4.0           0.0   \n",
              "2            80.0             1.010      2.0           3.0   \n",
              "3            70.0             1.005      4.0           0.0   \n",
              "4            80.0             1.010      2.0           0.0   \n",
              "\n",
              "   blood_glucose_random  blood_urea  serum_creatinine      sodium  potassium  \\\n",
              "0            121.000000        36.0               1.2  137.528754   4.627244   \n",
              "1            148.036517        18.0               0.8  137.528754   4.627244   \n",
              "2            423.000000        53.0               1.8  137.528754   4.627244   \n",
              "3            117.000000        56.0               3.8  111.000000   2.500000   \n",
              "4            106.000000        26.0               1.4  137.528754   4.627244   \n",
              "\n",
              "   haemoglobin  packed_cell_volume  white_blood_cell_count  \\\n",
              "0         15.4                44.0                  7800.0   \n",
              "1         11.3                38.0                  6000.0   \n",
              "2          9.6                31.0                  7500.0   \n",
              "3         11.2                32.0                  6700.0   \n",
              "4         11.6                35.0                  7300.0   \n",
              "\n",
              "   red_blood_cell_count  hypertension  pedal_edema  anemia  class  \n",
              "0              5.200000             1            0       0      0  \n",
              "1              4.707435             0            0       0      0  \n",
              "2              4.707435             0            0       1      0  \n",
              "3              3.900000             1            1       1      0  \n",
              "4              4.600000             0            0       0      0  "
            ],
            "text/html": [
              "\n",
              "  <div id=\"df-f65b2d43-cfec-4231-871c-72e663f8f3b0\">\n",
              "    <div class=\"colab-df-container\">\n",
              "      <div>\n",
              "<style scoped>\n",
              "    .dataframe tbody tr th:only-of-type {\n",
              "        vertical-align: middle;\n",
              "    }\n",
              "\n",
              "    .dataframe tbody tr th {\n",
              "        vertical-align: top;\n",
              "    }\n",
              "\n",
              "    .dataframe thead th {\n",
              "        text-align: right;\n",
              "    }\n",
              "</style>\n",
              "<table border=\"1\" class=\"dataframe\">\n",
              "  <thead>\n",
              "    <tr style=\"text-align: right;\">\n",
              "      <th></th>\n",
              "      <th>blood_pressure</th>\n",
              "      <th>specific_gravity</th>\n",
              "      <th>albumin</th>\n",
              "      <th>sulfonylurea</th>\n",
              "      <th>blood_glucose_random</th>\n",
              "      <th>blood_urea</th>\n",
              "      <th>serum_creatinine</th>\n",
              "      <th>sodium</th>\n",
              "      <th>potassium</th>\n",
              "      <th>haemoglobin</th>\n",
              "      <th>packed_cell_volume</th>\n",
              "      <th>white_blood_cell_count</th>\n",
              "      <th>red_blood_cell_count</th>\n",
              "      <th>hypertension</th>\n",
              "      <th>pedal_edema</th>\n",
              "      <th>anemia</th>\n",
              "      <th>class</th>\n",
              "    </tr>\n",
              "  </thead>\n",
              "  <tbody>\n",
              "    <tr>\n",
              "      <th>0</th>\n",
              "      <td>80.0</td>\n",
              "      <td>1.020</td>\n",
              "      <td>1.0</td>\n",
              "      <td>0.0</td>\n",
              "      <td>121.000000</td>\n",
              "      <td>36.0</td>\n",
              "      <td>1.2</td>\n",
              "      <td>137.528754</td>\n",
              "      <td>4.627244</td>\n",
              "      <td>15.4</td>\n",
              "      <td>44.0</td>\n",
              "      <td>7800.0</td>\n",
              "      <td>5.200000</td>\n",
              "      <td>1</td>\n",
              "      <td>0</td>\n",
              "      <td>0</td>\n",
              "      <td>0</td>\n",
              "    </tr>\n",
              "    <tr>\n",
              "      <th>1</th>\n",
              "      <td>50.0</td>\n",
              "      <td>1.020</td>\n",
              "      <td>4.0</td>\n",
              "      <td>0.0</td>\n",
              "      <td>148.036517</td>\n",
              "      <td>18.0</td>\n",
              "      <td>0.8</td>\n",
              "      <td>137.528754</td>\n",
              "      <td>4.627244</td>\n",
              "      <td>11.3</td>\n",
              "      <td>38.0</td>\n",
              "      <td>6000.0</td>\n",
              "      <td>4.707435</td>\n",
              "      <td>0</td>\n",
              "      <td>0</td>\n",
              "      <td>0</td>\n",
              "      <td>0</td>\n",
              "    </tr>\n",
              "    <tr>\n",
              "      <th>2</th>\n",
              "      <td>80.0</td>\n",
              "      <td>1.010</td>\n",
              "      <td>2.0</td>\n",
              "      <td>3.0</td>\n",
              "      <td>423.000000</td>\n",
              "      <td>53.0</td>\n",
              "      <td>1.8</td>\n",
              "      <td>137.528754</td>\n",
              "      <td>4.627244</td>\n",
              "      <td>9.6</td>\n",
              "      <td>31.0</td>\n",
              "      <td>7500.0</td>\n",
              "      <td>4.707435</td>\n",
              "      <td>0</td>\n",
              "      <td>0</td>\n",
              "      <td>1</td>\n",
              "      <td>0</td>\n",
              "    </tr>\n",
              "    <tr>\n",
              "      <th>3</th>\n",
              "      <td>70.0</td>\n",
              "      <td>1.005</td>\n",
              "      <td>4.0</td>\n",
              "      <td>0.0</td>\n",
              "      <td>117.000000</td>\n",
              "      <td>56.0</td>\n",
              "      <td>3.8</td>\n",
              "      <td>111.000000</td>\n",
              "      <td>2.500000</td>\n",
              "      <td>11.2</td>\n",
              "      <td>32.0</td>\n",
              "      <td>6700.0</td>\n",
              "      <td>3.900000</td>\n",
              "      <td>1</td>\n",
              "      <td>1</td>\n",
              "      <td>1</td>\n",
              "      <td>0</td>\n",
              "    </tr>\n",
              "    <tr>\n",
              "      <th>4</th>\n",
              "      <td>80.0</td>\n",
              "      <td>1.010</td>\n",
              "      <td>2.0</td>\n",
              "      <td>0.0</td>\n",
              "      <td>106.000000</td>\n",
              "      <td>26.0</td>\n",
              "      <td>1.4</td>\n",
              "      <td>137.528754</td>\n",
              "      <td>4.627244</td>\n",
              "      <td>11.6</td>\n",
              "      <td>35.0</td>\n",
              "      <td>7300.0</td>\n",
              "      <td>4.600000</td>\n",
              "      <td>0</td>\n",
              "      <td>0</td>\n",
              "      <td>0</td>\n",
              "      <td>0</td>\n",
              "    </tr>\n",
              "  </tbody>\n",
              "</table>\n",
              "</div>\n",
              "      <button class=\"colab-df-convert\" onclick=\"convertToInteractive('df-f65b2d43-cfec-4231-871c-72e663f8f3b0')\"\n",
              "              title=\"Convert this dataframe to an interactive table.\"\n",
              "              style=\"display:none;\">\n",
              "        \n",
              "  <svg xmlns=\"http://www.w3.org/2000/svg\" height=\"24px\"viewBox=\"0 0 24 24\"\n",
              "       width=\"24px\">\n",
              "    <path d=\"M0 0h24v24H0V0z\" fill=\"none\"/>\n",
              "    <path d=\"M18.56 5.44l.94 2.06.94-2.06 2.06-.94-2.06-.94-.94-2.06-.94 2.06-2.06.94zm-11 1L8.5 8.5l.94-2.06 2.06-.94-2.06-.94L8.5 2.5l-.94 2.06-2.06.94zm10 10l.94 2.06.94-2.06 2.06-.94-2.06-.94-.94-2.06-.94 2.06-2.06.94z\"/><path d=\"M17.41 7.96l-1.37-1.37c-.4-.4-.92-.59-1.43-.59-.52 0-1.04.2-1.43.59L10.3 9.45l-7.72 7.72c-.78.78-.78 2.05 0 2.83L4 21.41c.39.39.9.59 1.41.59.51 0 1.02-.2 1.41-.59l7.78-7.78 2.81-2.81c.8-.78.8-2.07 0-2.86zM5.41 20L4 18.59l7.72-7.72 1.47 1.35L5.41 20z\"/>\n",
              "  </svg>\n",
              "      </button>\n",
              "      \n",
              "  <style>\n",
              "    .colab-df-container {\n",
              "      display:flex;\n",
              "      flex-wrap:wrap;\n",
              "      gap: 12px;\n",
              "    }\n",
              "\n",
              "    .colab-df-convert {\n",
              "      background-color: #E8F0FE;\n",
              "      border: none;\n",
              "      border-radius: 50%;\n",
              "      cursor: pointer;\n",
              "      display: none;\n",
              "      fill: #1967D2;\n",
              "      height: 32px;\n",
              "      padding: 0 0 0 0;\n",
              "      width: 32px;\n",
              "    }\n",
              "\n",
              "    .colab-df-convert:hover {\n",
              "      background-color: #E2EBFA;\n",
              "      box-shadow: 0px 1px 2px rgba(60, 64, 67, 0.3), 0px 1px 3px 1px rgba(60, 64, 67, 0.15);\n",
              "      fill: #174EA6;\n",
              "    }\n",
              "\n",
              "    [theme=dark] .colab-df-convert {\n",
              "      background-color: #3B4455;\n",
              "      fill: #D2E3FC;\n",
              "    }\n",
              "\n",
              "    [theme=dark] .colab-df-convert:hover {\n",
              "      background-color: #434B5C;\n",
              "      box-shadow: 0px 1px 3px 1px rgba(0, 0, 0, 0.15);\n",
              "      filter: drop-shadow(0px 1px 2px rgba(0, 0, 0, 0.3));\n",
              "      fill: #FFFFFF;\n",
              "    }\n",
              "  </style>\n",
              "\n",
              "      <script>\n",
              "        const buttonEl =\n",
              "          document.querySelector('#df-f65b2d43-cfec-4231-871c-72e663f8f3b0 button.colab-df-convert');\n",
              "        buttonEl.style.display =\n",
              "          google.colab.kernel.accessAllowed ? 'block' : 'none';\n",
              "\n",
              "        async function convertToInteractive(key) {\n",
              "          const element = document.querySelector('#df-f65b2d43-cfec-4231-871c-72e663f8f3b0');\n",
              "          const dataTable =\n",
              "            await google.colab.kernel.invokeFunction('convertToInteractive',\n",
              "                                                     [key], {});\n",
              "          if (!dataTable) return;\n",
              "\n",
              "          const docLinkHtml = 'Like what you see? Visit the ' +\n",
              "            '<a target=\"_blank\" href=https://colab.research.google.com/notebooks/data_table.ipynb>data table notebook</a>'\n",
              "            + ' to learn more about interactive tables.';\n",
              "          element.innerHTML = '';\n",
              "          dataTable['output_type'] = 'display_data';\n",
              "          await google.colab.output.renderOutput(dataTable, element);\n",
              "          const docLink = document.createElement('div');\n",
              "          docLink.innerHTML = docLinkHtml;\n",
              "          element.appendChild(docLink);\n",
              "        }\n",
              "      </script>\n",
              "    </div>\n",
              "  </div>\n",
              "  "
            ]
          },
          "metadata": {},
          "execution_count": 36
        }
      ]
    },
    {
      "cell_type": "markdown",
      "source": [
        "## Correlation"
      ],
      "metadata": {
        "id": "57pXXFTe8oV6"
      }
    },
    {
      "cell_type": "code",
      "source": [
        "# Calculation the correlation\n",
        "\n",
        "plt.figure(figsize=(10,10))\n",
        "cor=df.corr()\n",
        "sns.heatmap(cor, annot = True, linewidths = 1, linecolor = 'lightgrey')"
      ],
      "metadata": {
        "execution": {
          "iopub.status.busy": "2023-01-04T12:14:54.098394Z",
          "iopub.execute_input": "2023-01-04T12:14:54.098870Z",
          "iopub.status.idle": "2023-01-04T12:14:55.359091Z",
          "shell.execute_reply.started": "2023-01-04T12:14:54.098832Z",
          "shell.execute_reply": "2023-01-04T12:14:55.358388Z"
        },
        "trusted": true,
        "colab": {
          "base_uri": "https://localhost:8080/",
          "height": 714
        },
        "id": "qNhSrJUF8oV6",
        "outputId": "6c970737-3823-4d19-8fe4-cb1be792967f"
      },
      "execution_count": null,
      "outputs": [
        {
          "output_type": "execute_result",
          "data": {
            "text/plain": [
              "<matplotlib.axes._subplots.AxesSubplot at 0x7f40e1d25c10>"
            ]
          },
          "metadata": {},
          "execution_count": 37
        },
        {
          "output_type": "display_data",
          "data": {
            "text/plain": [
              "<Figure size 720x720 with 2 Axes>"
            ],
            "image/png": "[encoded data removed]"
          },
          "metadata": {
            "needs_background": "light"
          }
        }
      ]
    },
    {
      "cell_type": "markdown",
      "source": [
        "# IV. Feature Engineering"
      ],
      "metadata": {
        "id": "Q4Q8Notd8oV_"
      }
    },
    {
      "cell_type": "markdown",
      "source": [
        "With sklearn.model_selection.train_test_split, we are creating 4 portions of data which will be used for fitting & predicting values."
      ],
      "metadata": {
        "id": "Y_8LIVbo_V0H"
      }
    },
    {
      "cell_type": "code",
      "source": [
        "# data splitting in X,y\n",
        "X = df.drop(columns=['class']) #kolom yang mau dihapus dan gak dipakai\n",
        "y = df['class']"
      ],
      "metadata": {
        "execution": {
          "iopub.status.busy": "2023-01-04T12:14:56.020331Z",
          "iopub.execute_input": "2023-01-04T12:14:56.020602Z",
          "iopub.status.idle": "2023-01-04T12:14:56.029429Z",
          "shell.execute_reply.started": "2023-01-04T12:14:56.020569Z",
          "shell.execute_reply": "2023-01-04T12:14:56.028787Z"
        },
        "trusted": true,
        "id": "WURPihBa8oV_"
      },
      "execution_count": null,
      "outputs": []
    },
    {
      "cell_type": "code",
      "source": [
        "X_train, X_test, y_train, y_test = train_test_split(X, y, test_size=0.20, random_state=42)"
      ],
      "metadata": {
        "execution": {
          "iopub.status.busy": "2023-01-04T12:14:56.031249Z",
          "iopub.execute_input": "2023-01-04T12:14:56.031747Z",
          "iopub.status.idle": "2023-01-04T12:14:56.043338Z",
          "shell.execute_reply.started": "2023-01-04T12:14:56.031713Z",
          "shell.execute_reply": "2023-01-04T12:14:56.042711Z"
        },
        "trusted": true,
        "id": "7yuGlxOv8oWA"
      },
      "execution_count": null,
      "outputs": []
    },
    {
      "cell_type": "code",
      "source": [
        "print(\"The shape of X_train\", X_train.shape)\n",
        "print(\"The shape of X_test\", X_test.shape)\n",
        "print(\"The shape of y_train\", y_train.shape)\n",
        "print(\"The shape of y_test\", y_test.shape)"
      ],
      "metadata": {
        "execution": {
          "iopub.status.busy": "2023-01-04T12:14:56.044910Z",
          "iopub.execute_input": "2023-01-04T12:14:56.045112Z",
          "iopub.status.idle": "2023-01-04T12:14:56.056003Z",
          "shell.execute_reply.started": "2023-01-04T12:14:56.045088Z",
          "shell.execute_reply": "2023-01-04T12:14:56.055193Z"
        },
        "trusted": true,
        "id": "Pk81ueSh8oWA",
        "colab": {
          "base_uri": "https://localhost:8080/"
        },
        "outputId": "3a76eef7-e4cb-410e-802c-fc48408861cb"
      },
      "execution_count": null,
      "outputs": [
        {
          "output_type": "stream",
          "name": "stdout",
          "text": [
            "The shape of X_train (320, 16)\n",
            "The shape of X_test (80, 16)\n",
            "The shape of y_train (320,)\n",
            "The shape of y_test (80,)\n"
          ]
        }
      ]
    },
    {
      "cell_type": "markdown",
      "source": [],
      "metadata": {
        "id": "av-fyYI9ASYv"
      }
    },
    {
      "cell_type": "markdown",
      "source": [
        "## A. Model"
      ],
      "metadata": {
        "id": "_1yA7RbXwCA6"
      }
    },
    {
      "cell_type": "markdown",
      "source": [
        "### Decision Tree Classifier\n"
      ],
      "metadata": {
        "id": "9XlkBLp78oWD"
      }
    },
    {
      "cell_type": "code",
      "source": [
        "from sklearn.tree import DecisionTreeClassifier\n",
        "# Creating model object\n",
        "model_dt = DecisionTreeClassifier()\n",
        "# Training Model\n",
        "model_dt.fit(X_train,y_train)"
      ],
      "metadata": {
        "execution": {
          "iopub.status.busy": "2023-01-04T12:14:56.424629Z",
          "iopub.execute_input": "2023-01-04T12:14:56.424886Z",
          "iopub.status.idle": "2023-01-04T12:14:56.438351Z",
          "shell.execute_reply.started": "2023-01-04T12:14:56.424851Z",
          "shell.execute_reply": "2023-01-04T12:14:56.437658Z"
        },
        "trusted": true,
        "colab": {
          "base_uri": "https://localhost:8080/"
        },
        "id": "aijrq65G8oWD",
        "outputId": "3cf9528c-8120-4780-fb27-100f095da714"
      },
      "execution_count": null,
      "outputs": [
        {
          "output_type": "execute_result",
          "data": {
            "text/plain": [
              "DecisionTreeClassifier()"
            ]
          },
          "metadata": {},
          "execution_count": 41
        }
      ]
    },
    {
      "cell_type": "code",
      "source": [
        "# Making Prediction\n",
        "pred_dt = model_dt.predict(X_test)"
      ],
      "metadata": {
        "execution": {
          "iopub.status.busy": "2023-01-04T12:14:56.439644Z",
          "iopub.execute_input": "2023-01-04T12:14:56.439937Z",
          "iopub.status.idle": "2023-01-04T12:14:56.447899Z",
          "shell.execute_reply.started": "2023-01-04T12:14:56.439904Z",
          "shell.execute_reply": "2023-01-04T12:14:56.447262Z"
        },
        "trusted": true,
        "id": "iTAFktqL8oWD"
      },
      "execution_count": null,
      "outputs": []
    },
    {
      "cell_type": "code",
      "source": [
        "print('model_DT Accuracy is: ' , model_dt.score(X_test, y_test))"
      ],
      "metadata": {
        "execution": {
          "iopub.status.busy": "2023-01-04T12:14:56.449517Z",
          "iopub.execute_input": "2023-01-04T12:14:56.450036Z",
          "iopub.status.idle": "2023-01-04T12:14:56.463986Z",
          "shell.execute_reply.started": "2023-01-04T12:14:56.449994Z",
          "shell.execute_reply": "2023-01-04T12:14:56.463217Z"
        },
        "trusted": true,
        "colab": {
          "base_uri": "https://localhost:8080/"
        },
        "id": "-vEHAPG68oWE",
        "outputId": "b0f40563-0beb-4e42-ff90-99725984c1df"
      },
      "execution_count": null,
      "outputs": [
        {
          "output_type": "stream",
          "name": "stdout",
          "text": [
            "model_DT Accuracy is:  1.0\n"
          ]
        }
      ]
    },
    {
      "cell_type": "code",
      "source": [
        "print('The DT accuracy score is: ' , accuracy_score(y_test , y_pred) *100, '%')"
      ],
      "metadata": {
        "execution": {
          "iopub.status.busy": "2023-01-04T12:14:56.465435Z",
          "iopub.execute_input": "2023-01-04T12:14:56.465896Z",
          "iopub.status.idle": "2023-01-04T12:14:56.478936Z",
          "shell.execute_reply.started": "2023-01-04T12:14:56.465694Z",
          "shell.execute_reply": "2023-01-04T12:14:56.478193Z"
        },
        "trusted": true,
        "colab": {
          "base_uri": "https://localhost:8080/",
          "height": 166
        },
        "id": "xAdI1ScE8oWE",
        "outputId": "e0a51294-c834-4c59-ae7f-a53b889ec1cb"
      },
      "execution_count": null,
      "outputs": [
        {
          "output_type": "error",
          "ename": "NameError",
          "evalue": "ignored",
          "traceback": [
            "\u001b[0;31m---------------------------------------------------------------------------\u001b[0m",
            "\u001b[0;31mNameError\u001b[0m                                 Traceback (most recent call last)",
            "\u001b[0;32m<ipython-input-44-86e93b094fca>\u001b[0m in \u001b[0;36m<module>\u001b[0;34m\u001b[0m\n\u001b[0;32m----> 1\u001b[0;31m \u001b[0mprint\u001b[0m\u001b[0;34m(\u001b[0m\u001b[0;34m'The DT accuracy score is: '\u001b[0m \u001b[0;34m,\u001b[0m \u001b[0maccuracy_score\u001b[0m\u001b[0;34m(\u001b[0m\u001b[0my_test\u001b[0m \u001b[0;34m,\u001b[0m \u001b[0my_pred\u001b[0m\u001b[0;34m)\u001b[0m \u001b[0;34m*\u001b[0m\u001b[0;36m100\u001b[0m\u001b[0;34m,\u001b[0m \u001b[0;34m'%'\u001b[0m\u001b[0;34m)\u001b[0m\u001b[0;34m\u001b[0m\u001b[0;34m\u001b[0m\u001b[0m\n\u001b[0m",
            "\u001b[0;31mNameError\u001b[0m: name 'y_pred' is not defined"
          ]
        }
      ]
    },
    {
      "cell_type": "code",
      "source": [
        "from sklearn.metrics import plot_confusion_matrix\n",
        "# Confusion Matrix\n",
        "from sklearn.metrics import confusion_matrix\n",
        "cm2 = confusion_matrix(y_test, pred_dt)"
      ],
      "metadata": {
        "execution": {
          "iopub.status.busy": "2023-01-04T12:14:56.480177Z",
          "iopub.execute_input": "2023-01-04T12:14:56.480429Z",
          "iopub.status.idle": "2023-01-04T12:14:56.489741Z",
          "shell.execute_reply.started": "2023-01-04T12:14:56.480397Z",
          "shell.execute_reply": "2023-01-04T12:14:56.489012Z"
        },
        "trusted": true,
        "id": "TklMxicz8oWE"
      },
      "execution_count": null,
      "outputs": []
    },
    {
      "cell_type": "code",
      "source": [
        "from sklearn.metrics import confusion_matrix, ConfusionMatrixDisplay\n",
        "disp = ConfusionMatrixDisplay(confusion_matrix=cm2,display_labels=model_dt.classes_)\n",
        "disp.plot()\n",
        "plt.show()"
      ],
      "metadata": {
        "execution": {
          "iopub.status.busy": "2023-01-04T12:14:56.490801Z",
          "iopub.execute_input": "2023-01-04T12:14:56.490981Z",
          "iopub.status.idle": "2023-01-04T12:14:56.909728Z",
          "shell.execute_reply.started": "2023-01-04T12:14:56.490957Z",
          "shell.execute_reply": "2023-01-04T12:14:56.909025Z"
        },
        "trusted": true,
        "colab": {
          "base_uri": "https://localhost:8080/",
          "height": 279
        },
        "id": "vwM8kkkR8oWE",
        "outputId": "f55eae88-6fea-452d-ac19-03f88911e66f"
      },
      "execution_count": null,
      "outputs": [
        {
          "output_type": "display_data",
          "data": {
            "text/plain": [
              "<Figure size 432x288 with 2 Axes>"
            ],
            "image/png": "[encoded data removed]"
          },
          "metadata": {
            "needs_background": "light"
          }
        }
      ]
    },
    {
      "cell_type": "code",
      "source": [
        "from sklearn.metrics import classification_report\n",
        "\n",
        "print(classification_report(y_test, pred_dt))"
      ],
      "metadata": {
        "colab": {
          "base_uri": "https://localhost:8080/"
        },
        "id": "zU7tn_cKDT0W",
        "outputId": "a897855f-b66c-48e7-dc0a-c7798dce6136"
      },
      "execution_count": null,
      "outputs": [
        {
          "output_type": "stream",
          "name": "stdout",
          "text": [
            "              precision    recall  f1-score   support\n",
            "\n",
            "           0       1.00      1.00      1.00        52\n",
            "           1       1.00      1.00      1.00        28\n",
            "\n",
            "    accuracy                           1.00        80\n",
            "   macro avg       1.00      1.00      1.00        80\n",
            "weighted avg       1.00      1.00      1.00        80\n",
            "\n"
          ]
        }
      ]
    },
    {
      "cell_type": "markdown",
      "source": [
        "### K-Nearest Neighbors Classifier"
      ],
      "metadata": {
        "id": "OIn526iJFMT7"
      }
    },
    {
      "cell_type": "code",
      "source": [
        "from sklearn.neighbors import KNeighborsClassifier\n",
        "from sklearn import metrics\n",
        "# Creating model object\n",
        "model_knn = KNeighborsClassifier()\n",
        "model_knn.fit(X_train, y_train)"
      ],
      "metadata": {
        "execution": {
          "iopub.status.busy": "2023-01-04T12:14:57.284095Z",
          "iopub.execute_input": "2023-01-04T12:14:57.284505Z",
          "iopub.status.idle": "2023-01-04T12:14:57.339857Z",
          "shell.execute_reply.started": "2023-01-04T12:14:57.284469Z",
          "shell.execute_reply": "2023-01-04T12:14:57.339084Z"
        },
        "trusted": true,
        "colab": {
          "base_uri": "https://localhost:8080/"
        },
        "outputId": "a1d9ab9f-e81b-46f2-8255-7cd40f6da67d",
        "id": "xx6kB3nDFMT7"
      },
      "execution_count": null,
      "outputs": [
        {
          "output_type": "execute_result",
          "data": {
            "text/plain": [
              "KNeighborsClassifier()"
            ]
          },
          "metadata": {},
          "execution_count": 51
        }
      ]
    },
    {
      "cell_type": "code",
      "source": [
        "pred_knn = model_knn.predict(X_test)"
      ],
      "metadata": {
        "execution": {
          "iopub.status.busy": "2023-01-04T12:14:57.341007Z",
          "iopub.execute_input": "2023-01-04T12:14:57.341267Z",
          "iopub.status.idle": "2023-01-04T12:14:57.350549Z",
          "shell.execute_reply.started": "2023-01-04T12:14:57.341235Z",
          "shell.execute_reply": "2023-01-04T12:14:57.350045Z"
        },
        "trusted": true,
        "id": "ER2dktPJFMT8"
      },
      "execution_count": null,
      "outputs": []
    },
    {
      "cell_type": "code",
      "source": [
        "print('The KNN Accuracy is: ' , model_knn.score(X_test, y_test)*100, '%')"
      ],
      "metadata": {
        "execution": {
          "iopub.status.busy": "2023-01-04T12:14:57.353766Z",
          "iopub.execute_input": "2023-01-04T12:14:57.354475Z",
          "iopub.status.idle": "2023-01-04T12:14:57.370810Z",
          "shell.execute_reply.started": "2023-01-04T12:14:57.354444Z",
          "shell.execute_reply": "2023-01-04T12:14:57.370317Z"
        },
        "trusted": true,
        "colab": {
          "base_uri": "https://localhost:8080/"
        },
        "outputId": "05c30055-a8bb-4044-84a2-8741abffa4ee",
        "id": "DLhnkidlFMT8"
      },
      "execution_count": null,
      "outputs": [
        {
          "output_type": "stream",
          "name": "stdout",
          "text": [
            "The KNN Accuracy is:  73.75 %\n"
          ]
        }
      ]
    },
    {
      "cell_type": "code",
      "source": [
        "import matplotlib\n",
        "from sklearn.metrics import confusion_matrix,classification_report,plot_confusion_matrix\n",
        "matplotlib.rcParams['figure.figsize'] = (8,5)\n",
        "plot_confusion_matrix(model_knn,X_test,y_test);"
      ],
      "metadata": {
        "execution": {
          "iopub.status.busy": "2023-01-04T12:14:57.373509Z",
          "iopub.execute_input": "2023-01-04T12:14:57.375345Z",
          "iopub.status.idle": "2023-01-04T12:14:57.625631Z",
          "shell.execute_reply.started": "2023-01-04T12:14:57.375313Z",
          "shell.execute_reply": "2023-01-04T12:14:57.624773Z"
        },
        "trusted": true,
        "colab": {
          "base_uri": "https://localhost:8080/",
          "height": 333
        },
        "outputId": "4e703e54-a57d-4dcb-b1e6-55573da72547",
        "id": "RvWCaqxBFMT8"
      },
      "execution_count": null,
      "outputs": [
        {
          "output_type": "display_data",
          "data": {
            "text/plain": [
              "<Figure size 576x360 with 2 Axes>"
            ],
            "image/png": "[encoded data removed]"
          },
          "metadata": {
            "needs_background": "light"
          }
        }
      ]
    },
    {
      "cell_type": "code",
      "source": [
        "from sklearn.metrics import classification_report\n",
        "\n",
        "print(classification_report(y_test, pred_knn))"
      ],
      "metadata": {
        "outputId": "ac830d75-a053-4ebe-b7d5-5e89119463ca",
        "colab": {
          "base_uri": "https://localhost:8080/"
        },
        "id": "qrkXvdCHFMT8"
      },
      "execution_count": null,
      "outputs": [
        {
          "output_type": "stream",
          "name": "stdout",
          "text": [
            "              precision    recall  f1-score   support\n",
            "\n",
            "           0       0.92      0.65      0.76        52\n",
            "           1       0.58      0.89      0.70        28\n",
            "\n",
            "    accuracy                           0.74        80\n",
            "   macro avg       0.75      0.77      0.73        80\n",
            "weighted avg       0.80      0.74      0.74        80\n",
            "\n"
          ]
        }
      ]
    },
    {
      "cell_type": "markdown",
      "source": [
        "### Naive Bayes Classifier"
      ],
      "metadata": {
        "id": "GpKIPzywFKu5"
      }
    },
    {
      "cell_type": "code",
      "source": [
        "from sklearn.naive_bayes import GaussianNB\n",
        "from sklearn import metrics\n",
        "# Creating model object\n",
        "model_nb = GaussianNB()\n",
        "model_nb.fit(X_train, y_train)"
      ],
      "metadata": {
        "execution": {
          "iopub.status.busy": "2023-01-04T12:14:57.284095Z",
          "iopub.execute_input": "2023-01-04T12:14:57.284505Z",
          "iopub.status.idle": "2023-01-04T12:14:57.339857Z",
          "shell.execute_reply.started": "2023-01-04T12:14:57.284469Z",
          "shell.execute_reply": "2023-01-04T12:14:57.339084Z"
        },
        "trusted": true,
        "colab": {
          "base_uri": "https://localhost:8080/"
        },
        "outputId": "f1b3a36f-d4f5-425e-fb7b-11f7cbff81c7",
        "id": "DiYDOSs7FKu6"
      },
      "execution_count": null,
      "outputs": [
        {
          "output_type": "execute_result",
          "data": {
            "text/plain": [
              "GaussianNB()"
            ]
          },
          "metadata": {},
          "execution_count": 56
        }
      ]
    },
    {
      "cell_type": "code",
      "source": [
        "pred_nb = model_nb.predict(X_test)"
      ],
      "metadata": {
        "execution": {
          "iopub.status.busy": "2023-01-04T12:14:57.341007Z",
          "iopub.execute_input": "2023-01-04T12:14:57.341267Z",
          "iopub.status.idle": "2023-01-04T12:14:57.350549Z",
          "shell.execute_reply.started": "2023-01-04T12:14:57.341235Z",
          "shell.execute_reply": "2023-01-04T12:14:57.350045Z"
        },
        "trusted": true,
        "id": "oeDI7PFeFKu7"
      },
      "execution_count": null,
      "outputs": []
    },
    {
      "cell_type": "code",
      "source": [
        "print('The Naive Bayes accuracy score is:' , model_nb.score(X_test, y_test)*100, '%')"
      ],
      "metadata": {
        "execution": {
          "iopub.status.busy": "2023-01-04T12:14:57.353766Z",
          "iopub.execute_input": "2023-01-04T12:14:57.354475Z",
          "iopub.status.idle": "2023-01-04T12:14:57.370810Z",
          "shell.execute_reply.started": "2023-01-04T12:14:57.354444Z",
          "shell.execute_reply": "2023-01-04T12:14:57.370317Z"
        },
        "trusted": true,
        "colab": {
          "base_uri": "https://localhost:8080/"
        },
        "outputId": "004881e4-e97a-4a83-d546-bc0f972107b8",
        "id": "UNEs4LkXFKu7"
      },
      "execution_count": null,
      "outputs": [
        {
          "output_type": "stream",
          "name": "stdout",
          "text": [
            "The Naive Bayes accuracy score is: 93.75 %\n"
          ]
        }
      ]
    },
    {
      "cell_type": "code",
      "source": [
        "import matplotlib\n",
        "from sklearn.metrics import confusion_matrix,classification_report,plot_confusion_matrix\n",
        "matplotlib.rcParams['figure.figsize'] = (8,5)\n",
        "plot_confusion_matrix(model_nb,X_test,y_test);"
      ],
      "metadata": {
        "execution": {
          "iopub.status.busy": "2023-01-04T12:14:57.373509Z",
          "iopub.execute_input": "2023-01-04T12:14:57.375345Z",
          "iopub.status.idle": "2023-01-04T12:14:57.625631Z",
          "shell.execute_reply.started": "2023-01-04T12:14:57.375313Z",
          "shell.execute_reply": "2023-01-04T12:14:57.624773Z"
        },
        "trusted": true,
        "colab": {
          "base_uri": "https://localhost:8080/",
          "height": 333
        },
        "outputId": "235d8d28-265e-4ce3-8488-cb8015def44e",
        "id": "PvEH6NFKFKu7"
      },
      "execution_count": null,
      "outputs": [
        {
          "output_type": "display_data",
          "data": {
            "text/plain": [
              "<Figure size 576x360 with 2 Axes>"
            ],
            "image/png": "[encoded data removed]"
          },
          "metadata": {
            "needs_background": "light"
          }
        }
      ]
    },
    {
      "cell_type": "code",
      "source": [
        "from sklearn.metrics import classification_report\n",
        "\n",
        "print(classification_report(y_test, pred_nb))"
      ],
      "metadata": {
        "outputId": "f7968f40-1292-48da-a700-c45698a7a368",
        "colab": {
          "base_uri": "https://localhost:8080/"
        },
        "id": "r21ojzl9FKu8"
      },
      "execution_count": null,
      "outputs": [
        {
          "output_type": "stream",
          "name": "stdout",
          "text": [
            "              precision    recall  f1-score   support\n",
            "\n",
            "           0       0.98      0.92      0.95        52\n",
            "           1       0.87      0.96      0.92        28\n",
            "\n",
            "    accuracy                           0.94        80\n",
            "   macro avg       0.93      0.94      0.93        80\n",
            "weighted avg       0.94      0.94      0.94        80\n",
            "\n"
          ]
        }
      ]
    },
    {
      "cell_type": "markdown",
      "source": [
        "### Probabilistic Neural Networks"
      ],
      "metadata": {
        "id": "G7X647ciFLeD"
      }
    },
    {
      "cell_type": "code",
      "source": [
        "from sklearn.neural_network import MLPClassifier\n",
        "from sklearn import metrics\n",
        "# Creating model object\n",
        "model_nn = MLPClassifier()\n",
        "model_nn.fit(X_train, y_train)"
      ],
      "metadata": {
        "execution": {
          "iopub.status.busy": "2023-01-04T12:14:57.284095Z",
          "iopub.execute_input": "2023-01-04T12:14:57.284505Z",
          "iopub.status.idle": "2023-01-04T12:14:57.339857Z",
          "shell.execute_reply.started": "2023-01-04T12:14:57.284469Z",
          "shell.execute_reply": "2023-01-04T12:14:57.339084Z"
        },
        "trusted": true,
        "colab": {
          "base_uri": "https://localhost:8080/"
        },
        "outputId": "22bf2925-d7ac-4b8c-ba24-89c2e8cb7696",
        "id": "hhEhCPCnFLeD"
      },
      "execution_count": null,
      "outputs": [
        {
          "output_type": "execute_result",
          "data": {
            "text/plain": [
              "MLPClassifier()"
            ]
          },
          "metadata": {},
          "execution_count": 61
        }
      ]
    },
    {
      "cell_type": "code",
      "source": [
        "pred_nn = model_nn.predict(X_test)"
      ],
      "metadata": {
        "execution": {
          "iopub.status.busy": "2023-01-04T12:14:57.341007Z",
          "iopub.execute_input": "2023-01-04T12:14:57.341267Z",
          "iopub.status.idle": "2023-01-04T12:14:57.350549Z",
          "shell.execute_reply.started": "2023-01-04T12:14:57.341235Z",
          "shell.execute_reply": "2023-01-04T12:14:57.350045Z"
        },
        "trusted": true,
        "id": "Gd9Av-pJFLeE"
      },
      "execution_count": null,
      "outputs": []
    },
    {
      "cell_type": "code",
      "source": [
        "print('The Probabilistics Neural Networks accuracy score is: ' , model_nn.score(X_test, y_test)*100,'%')"
      ],
      "metadata": {
        "execution": {
          "iopub.status.busy": "2023-01-04T12:14:57.353766Z",
          "iopub.execute_input": "2023-01-04T12:14:57.354475Z",
          "iopub.status.idle": "2023-01-04T12:14:57.370810Z",
          "shell.execute_reply.started": "2023-01-04T12:14:57.354444Z",
          "shell.execute_reply": "2023-01-04T12:14:57.370317Z"
        },
        "trusted": true,
        "colab": {
          "base_uri": "https://localhost:8080/"
        },
        "outputId": "9c036c69-1bae-4ccf-bd30-bc3e6bc797b6",
        "id": "Utmgr972FLeE"
      },
      "execution_count": null,
      "outputs": [
        {
          "output_type": "stream",
          "name": "stdout",
          "text": [
            "The Probabilistics Neural Networks accuracy score is:  82.5 %\n"
          ]
        }
      ]
    },
    {
      "cell_type": "code",
      "source": [
        "import matplotlib\n",
        "from sklearn.metrics import confusion_matrix,classification_report,plot_confusion_matrix\n",
        "matplotlib.rcParams['figure.figsize'] = (8,5)\n",
        "plot_confusion_matrix(model_nn,X_test,y_test);"
      ],
      "metadata": {
        "execution": {
          "iopub.status.busy": "2023-01-04T12:14:57.373509Z",
          "iopub.execute_input": "2023-01-04T12:14:57.375345Z",
          "iopub.status.idle": "2023-01-04T12:14:57.625631Z",
          "shell.execute_reply.started": "2023-01-04T12:14:57.375313Z",
          "shell.execute_reply": "2023-01-04T12:14:57.624773Z"
        },
        "trusted": true,
        "colab": {
          "base_uri": "https://localhost:8080/",
          "height": 333
        },
        "outputId": "aacf5ea7-80db-4953-81f5-6e6676964657",
        "id": "2nfLHl_KFLeE"
      },
      "execution_count": null,
      "outputs": [
        {
          "output_type": "display_data",
          "data": {
            "text/plain": [
              "<Figure size 576x360 with 2 Axes>"
            ],
            "image/png": "[encoded data removed]"
          },
          "metadata": {
            "needs_background": "light"
          }
        }
      ]
    },
    {
      "cell_type": "code",
      "source": [
        "from sklearn.metrics import classification_report\n",
        "\n",
        "print(classification_report(y_test, pred_nn))"
      ],
      "metadata": {
        "outputId": "3018d468-6641-4656-bdf8-220d2d94e07a",
        "colab": {
          "base_uri": "https://localhost:8080/"
        },
        "id": "M36Zhe8RFLeE"
      },
      "execution_count": null,
      "outputs": [
        {
          "output_type": "stream",
          "name": "stdout",
          "text": [
            "              precision    recall  f1-score   support\n",
            "\n",
            "           0       0.80      0.98      0.88        52\n",
            "           1       0.94      0.54      0.68        28\n",
            "\n",
            "    accuracy                           0.82        80\n",
            "   macro avg       0.87      0.76      0.78        80\n",
            "weighted avg       0.85      0.82      0.81        80\n",
            "\n"
          ]
        }
      ]
    },
    {
      "cell_type": "markdown",
      "source": [
        "### Random Forest Classifier\n"
      ],
      "metadata": {
        "id": "RBXPGEru8oWA"
      }
    },
    {
      "cell_type": "code",
      "source": [
        "# Fitting Random Forest Classification to the Training set\n",
        "from sklearn.ensemble import RandomForestClassifier\n",
        "model_rf = RandomForestClassifier(n_estimators = 10, criterion = 'entropy', random_state = 0)\n",
        "model_rf.fit(X_train, y_train)"
      ],
      "metadata": {
        "execution": {
          "iopub.status.busy": "2023-01-04T12:14:56.057167Z",
          "iopub.execute_input": "2023-01-04T12:14:56.057516Z",
          "iopub.status.idle": "2023-01-04T12:14:56.090072Z",
          "shell.execute_reply.started": "2023-01-04T12:14:56.057483Z",
          "shell.execute_reply": "2023-01-04T12:14:56.089420Z"
        },
        "trusted": true,
        "colab": {
          "base_uri": "https://localhost:8080/"
        },
        "id": "ciGZc56-8oWA",
        "outputId": "78aa5908-5ee3-4ffd-e6e2-f94c5cbfeda3"
      },
      "execution_count": null,
      "outputs": [
        {
          "output_type": "execute_result",
          "data": {
            "text/plain": [
              "RandomForestClassifier(criterion='entropy', n_estimators=10, random_state=0)"
            ]
          },
          "metadata": {},
          "execution_count": 66
        }
      ]
    },
    {
      "cell_type": "code",
      "source": [
        "# Predicting the Test set results\n",
        "y_pred = model_rf.predict(X_test)\n",
        "y_pred[:10]"
      ],
      "metadata": {
        "execution": {
          "iopub.status.busy": "2023-01-04T12:14:56.091253Z",
          "iopub.execute_input": "2023-01-04T12:14:56.091497Z",
          "iopub.status.idle": "2023-01-04T12:14:56.101319Z",
          "shell.execute_reply.started": "2023-01-04T12:14:56.091465Z",
          "shell.execute_reply": "2023-01-04T12:14:56.100495Z"
        },
        "trusted": true,
        "colab": {
          "base_uri": "https://localhost:8080/"
        },
        "id": "FXawpf0t8oWA",
        "outputId": "c637735b-b053-442c-9674-e1ecfe464c21"
      },
      "execution_count": null,
      "outputs": [
        {
          "output_type": "execute_result",
          "data": {
            "text/plain": [
              "array([0, 1, 0, 0, 0, 0, 1, 0, 1, 0])"
            ]
          },
          "metadata": {},
          "execution_count": 67
        }
      ]
    },
    {
      "cell_type": "code",
      "source": [
        "print('The RF model accuracy is: ' , model_rf.score(X_test, y_test))"
      ],
      "metadata": {
        "execution": {
          "iopub.status.busy": "2023-01-04T12:14:56.102814Z",
          "iopub.execute_input": "2023-01-04T12:14:56.103064Z",
          "iopub.status.idle": "2023-01-04T12:14:56.117692Z",
          "shell.execute_reply.started": "2023-01-04T12:14:56.103031Z",
          "shell.execute_reply": "2023-01-04T12:14:56.116868Z"
        },
        "trusted": true,
        "colab": {
          "base_uri": "https://localhost:8080/"
        },
        "id": "Hxrh24ml8oWA",
        "outputId": "f57ae8f0-a656-440b-d1e6-753a0cd6d8c6"
      },
      "execution_count": null,
      "outputs": [
        {
          "output_type": "stream",
          "name": "stdout",
          "text": [
            "The RF model accuracy is:  0.9875\n"
          ]
        }
      ]
    },
    {
      "cell_type": "code",
      "source": [
        "print(\"The RF accuracy score is: \",accuracy_score(y_test , y_pred)*100, '%')"
      ],
      "metadata": {
        "execution": {
          "iopub.status.busy": "2023-01-04T12:14:56.119216Z",
          "iopub.execute_input": "2023-01-04T12:14:56.119459Z",
          "iopub.status.idle": "2023-01-04T12:14:56.127721Z",
          "shell.execute_reply.started": "2023-01-04T12:14:56.119426Z",
          "shell.execute_reply": "2023-01-04T12:14:56.126922Z"
        },
        "trusted": true,
        "colab": {
          "base_uri": "https://localhost:8080/"
        },
        "id": "QKxoc-bM8oWB",
        "outputId": "de9dc08c-eb41-4988-b43a-e346fea20feb"
      },
      "execution_count": null,
      "outputs": [
        {
          "output_type": "stream",
          "name": "stdout",
          "text": [
            "The RF accuracy score is:  98.75 %\n"
          ]
        }
      ]
    },
    {
      "cell_type": "code",
      "source": [
        "#  Confusion Matrix\n",
        "from sklearn.metrics import confusion_matrix\n",
        "cm1 = confusion_matrix(y_test, y_pred)"
      ],
      "metadata": {
        "execution": {
          "iopub.status.busy": "2023-01-04T12:14:56.180081Z",
          "iopub.execute_input": "2023-01-04T12:14:56.180260Z",
          "iopub.status.idle": "2023-01-04T12:14:56.193191Z",
          "shell.execute_reply.started": "2023-01-04T12:14:56.180238Z",
          "shell.execute_reply": "2023-01-04T12:14:56.192581Z"
        },
        "trusted": true,
        "id": "XZlenV018oWB"
      },
      "execution_count": null,
      "outputs": []
    },
    {
      "cell_type": "code",
      "source": [
        "from sklearn.metrics import confusion_matrix, ConfusionMatrixDisplay\n",
        "disp = ConfusionMatrixDisplay(confusion_matrix=cm1,display_labels=model_rf.classes_)\n",
        "disp.plot()\n",
        "plt.show()"
      ],
      "metadata": {
        "execution": {
          "iopub.status.busy": "2023-01-04T12:14:56.199057Z",
          "iopub.execute_input": "2023-01-04T12:14:56.199254Z",
          "iopub.status.idle": "2023-01-04T12:14:56.400995Z",
          "shell.execute_reply.started": "2023-01-04T12:14:56.199227Z",
          "shell.execute_reply": "2023-01-04T12:14:56.400338Z"
        },
        "trusted": true,
        "colab": {
          "base_uri": "https://localhost:8080/",
          "height": 333
        },
        "id": "1GMWBhTa8oWC",
        "outputId": "8d02e16a-74c7-4ca5-bdb4-cfccfb23b685"
      },
      "execution_count": null,
      "outputs": [
        {
          "output_type": "display_data",
          "data": {
            "text/plain": [
              "<Figure size 576x360 with 2 Axes>"
            ],
            "image/png": "[encoded data removed]"
          },
          "metadata": {
            "needs_background": "light"
          }
        }
      ]
    },
    {
      "cell_type": "code",
      "source": [
        "from sklearn.metrics import classification_report\n",
        "\n",
        "print(classification_report(y_test, y_pred))"
      ],
      "metadata": {
        "colab": {
          "base_uri": "https://localhost:8080/"
        },
        "id": "L4xNuckADEkL",
        "outputId": "9d1176f9-bcb3-4307-8808-74202c0f972c"
      },
      "execution_count": null,
      "outputs": [
        {
          "output_type": "stream",
          "name": "stdout",
          "text": [
            "              precision    recall  f1-score   support\n",
            "\n",
            "           0       1.00      0.98      0.99        52\n",
            "           1       0.97      1.00      0.98        28\n",
            "\n",
            "    accuracy                           0.99        80\n",
            "   macro avg       0.98      0.99      0.99        80\n",
            "weighted avg       0.99      0.99      0.99        80\n",
            "\n"
          ]
        }
      ]
    },
    {
      "cell_type": "markdown",
      "source": [
        "### Support Vector Machine"
      ],
      "metadata": {
        "id": "ER5FfIwIFG2f"
      }
    },
    {
      "cell_type": "code",
      "source": [
        "from sklearn.svm import SVC\n",
        "from sklearn import metrics\n",
        "# Creating model object\n",
        "model_svm = SVC()\n",
        "model_svm.fit(X_train, y_train)"
      ],
      "metadata": {
        "execution": {
          "iopub.status.busy": "2023-01-04T12:14:57.284095Z",
          "iopub.execute_input": "2023-01-04T12:14:57.284505Z",
          "iopub.status.idle": "2023-01-04T12:14:57.339857Z",
          "shell.execute_reply.started": "2023-01-04T12:14:57.284469Z",
          "shell.execute_reply": "2023-01-04T12:14:57.339084Z"
        },
        "trusted": true,
        "colab": {
          "base_uri": "https://localhost:8080/"
        },
        "outputId": "fc8a5b6f-a43f-4053-de7e-8795883c262a",
        "id": "GteO9CBYFG2f"
      },
      "execution_count": null,
      "outputs": [
        {
          "output_type": "execute_result",
          "data": {
            "text/plain": [
              "SVC()"
            ]
          },
          "metadata": {},
          "execution_count": 73
        }
      ]
    },
    {
      "cell_type": "code",
      "source": [
        "pred_svm = model_svm.predict(X_test)"
      ],
      "metadata": {
        "execution": {
          "iopub.status.busy": "2023-01-04T12:14:57.341007Z",
          "iopub.execute_input": "2023-01-04T12:14:57.341267Z",
          "iopub.status.idle": "2023-01-04T12:14:57.350549Z",
          "shell.execute_reply.started": "2023-01-04T12:14:57.341235Z",
          "shell.execute_reply": "2023-01-04T12:14:57.350045Z"
        },
        "trusted": true,
        "id": "bAsdvzwWFG2g"
      },
      "execution_count": null,
      "outputs": []
    },
    {
      "cell_type": "code",
      "source": [
        "import matplotlib\n",
        "from sklearn.metrics import confusion_matrix,classification_report,plot_confusion_matrix\n",
        "matplotlib.rcParams['figure.figsize'] = (8,5)\n",
        "plot_confusion_matrix(model_svm,X_test,y_test);"
      ],
      "metadata": {
        "execution": {
          "iopub.status.busy": "2023-01-04T12:14:57.373509Z",
          "iopub.execute_input": "2023-01-04T12:14:57.375345Z",
          "iopub.status.idle": "2023-01-04T12:14:57.625631Z",
          "shell.execute_reply.started": "2023-01-04T12:14:57.375313Z",
          "shell.execute_reply": "2023-01-04T12:14:57.624773Z"
        },
        "trusted": true,
        "colab": {
          "base_uri": "https://localhost:8080/",
          "height": 333
        },
        "outputId": "cb00e691-376e-4f63-adf4-b64d0b242f85",
        "id": "7Vmz2GSwFG2g"
      },
      "execution_count": null,
      "outputs": [
        {
          "output_type": "display_data",
          "data": {
            "text/plain": [
              "<Figure size 576x360 with 2 Axes>"
            ],
            "image/png": "[encoded data removed]"
          },
          "metadata": {
            "needs_background": "light"
          }
        }
      ]
    },
    {
      "cell_type": "code",
      "source": [
        "print('The SVM accuracy score is: ' , model_svm.score(X_test, y_test)*100, '%')"
      ],
      "metadata": {
        "execution": {
          "iopub.status.busy": "2023-01-04T12:14:57.353766Z",
          "iopub.execute_input": "2023-01-04T12:14:57.354475Z",
          "iopub.status.idle": "2023-01-04T12:14:57.370810Z",
          "shell.execute_reply.started": "2023-01-04T12:14:57.354444Z",
          "shell.execute_reply": "2023-01-04T12:14:57.370317Z"
        },
        "trusted": true,
        "colab": {
          "base_uri": "https://localhost:8080/"
        },
        "outputId": "2edb883a-2d74-4d82-c59d-fde60f38a8d0",
        "id": "euFVWCEuFG2g"
      },
      "execution_count": null,
      "outputs": [
        {
          "output_type": "stream",
          "name": "stdout",
          "text": [
            "The SVM accuracy score is:  65.0 %\n"
          ]
        }
      ]
    },
    {
      "cell_type": "code",
      "source": [
        "from sklearn.metrics import classification_report\n",
        "\n",
        "print(classification_report(y_test, pred_svm))"
      ],
      "metadata": {
        "outputId": "24b6552e-2c50-4f73-8172-576141ec89e5",
        "colab": {
          "base_uri": "https://localhost:8080/"
        },
        "id": "OXf_HJprFG2g"
      },
      "execution_count": null,
      "outputs": [
        {
          "output_type": "stream",
          "name": "stdout",
          "text": [
            "              precision    recall  f1-score   support\n",
            "\n",
            "           0       0.65      1.00      0.79        52\n",
            "           1       0.00      0.00      0.00        28\n",
            "\n",
            "    accuracy                           0.65        80\n",
            "   macro avg       0.33      0.50      0.39        80\n",
            "weighted avg       0.42      0.65      0.51        80\n",
            "\n"
          ]
        }
      ]
    },
    {
      "cell_type": "markdown",
      "source": [
        "### XGBoost Classifier"
      ],
      "metadata": {
        "id": "gECc6P_r8oWG"
      }
    },
    {
      "cell_type": "code",
      "source": [
        "from xgboost import XGBClassifier\n",
        "from sklearn import metrics\n",
        "# Creating model object\n",
        "model_xgb = XGBClassifier()\n",
        "model_xgb.fit(X_train, y_train)"
      ],
      "metadata": {
        "execution": {
          "iopub.status.busy": "2023-01-04T12:14:57.284095Z",
          "iopub.execute_input": "2023-01-04T12:14:57.284505Z",
          "iopub.status.idle": "2023-01-04T12:14:57.339857Z",
          "shell.execute_reply.started": "2023-01-04T12:14:57.284469Z",
          "shell.execute_reply": "2023-01-04T12:14:57.339084Z"
        },
        "trusted": true,
        "colab": {
          "base_uri": "https://localhost:8080/"
        },
        "id": "JNZL4_Gb8oWG",
        "outputId": "192301d2-97be-4a30-c4bd-c86b7469094d"
      },
      "execution_count": null,
      "outputs": [
        {
          "output_type": "execute_result",
          "data": {
            "text/plain": [
              "XGBClassifier()"
            ]
          },
          "metadata": {},
          "execution_count": 78
        }
      ]
    },
    {
      "cell_type": "code",
      "source": [
        "pred_xgb= model_xgb.predict(X_test)"
      ],
      "metadata": {
        "execution": {
          "iopub.status.busy": "2023-01-04T12:14:57.341007Z",
          "iopub.execute_input": "2023-01-04T12:14:57.341267Z",
          "iopub.status.idle": "2023-01-04T12:14:57.350549Z",
          "shell.execute_reply.started": "2023-01-04T12:14:57.341235Z",
          "shell.execute_reply": "2023-01-04T12:14:57.350045Z"
        },
        "trusted": true,
        "id": "vl8ksbvX8oWG"
      },
      "execution_count": null,
      "outputs": []
    },
    {
      "cell_type": "code",
      "source": [
        "print('The XGBoost accuracy score is: ' , model_xgb.score(X_test, y_test) *100, '%')"
      ],
      "metadata": {
        "execution": {
          "iopub.status.busy": "2023-01-04T12:14:57.353766Z",
          "iopub.execute_input": "2023-01-04T12:14:57.354475Z",
          "iopub.status.idle": "2023-01-04T12:14:57.370810Z",
          "shell.execute_reply.started": "2023-01-04T12:14:57.354444Z",
          "shell.execute_reply": "2023-01-04T12:14:57.370317Z"
        },
        "trusted": true,
        "colab": {
          "base_uri": "https://localhost:8080/"
        },
        "id": "xcN2S9UQ8oWG",
        "outputId": "133e2984-5543-457c-9898-a518d2ebcc12"
      },
      "execution_count": null,
      "outputs": [
        {
          "output_type": "stream",
          "name": "stdout",
          "text": [
            "The XGBoost accuracy score is:  98.75 %\n"
          ]
        }
      ]
    },
    {
      "cell_type": "code",
      "source": [
        "import matplotlib\n",
        "from sklearn.metrics import confusion_matrix,classification_report,plot_confusion_matrix\n",
        "matplotlib.rcParams['figure.figsize'] = (8,5)\n",
        "plot_confusion_matrix(model_xgb,X_test,y_test);"
      ],
      "metadata": {
        "execution": {
          "iopub.status.busy": "2023-01-04T12:14:57.373509Z",
          "iopub.execute_input": "2023-01-04T12:14:57.375345Z",
          "iopub.status.idle": "2023-01-04T12:14:57.625631Z",
          "shell.execute_reply.started": "2023-01-04T12:14:57.375313Z",
          "shell.execute_reply": "2023-01-04T12:14:57.624773Z"
        },
        "trusted": true,
        "colab": {
          "base_uri": "https://localhost:8080/",
          "height": 333
        },
        "id": "3YKLj2M98oWG",
        "outputId": "71847595-ec6d-4ec0-8f2a-0968fac49655"
      },
      "execution_count": null,
      "outputs": [
        {
          "output_type": "display_data",
          "data": {
            "text/plain": [
              "<Figure size 576x360 with 2 Axes>"
            ],
            "image/png": "[encoded data removed]"
          },
          "metadata": {
            "needs_background": "light"
          }
        }
      ]
    },
    {
      "cell_type": "code",
      "source": [
        "from sklearn.metrics import classification_report\n",
        "\n",
        "print(classification_report(y_test, pred_xgb))"
      ],
      "metadata": {
        "id": "17IUwKelDhcc",
        "outputId": "1fbdf428-a8b0-4df7-a937-2b8b831621d2",
        "colab": {
          "base_uri": "https://localhost:8080/"
        }
      },
      "execution_count": null,
      "outputs": [
        {
          "output_type": "stream",
          "name": "stdout",
          "text": [
            "              precision    recall  f1-score   support\n",
            "\n",
            "           0       1.00      0.98      0.99        52\n",
            "           1       0.97      1.00      0.98        28\n",
            "\n",
            "    accuracy                           0.99        80\n",
            "   macro avg       0.98      0.99      0.99        80\n",
            "weighted avg       0.99      0.99      0.99        80\n",
            "\n"
          ]
        }
      ]
    },
    {
      "cell_type": "code",
      "source": [
        "from sklearn.metrics import accuracy_score, f1_score\n",
        "from sklearn.tree import DecisionTreeClassifier\n",
        "from sklearn.neighbors import KNeighborsClassifier\n",
        "from sklearn.naive_bayes import GaussianNB\n",
        "from sklearn.neural_network import MLPClassifier\n",
        "from sklearn.ensemble import RandomForestClassifier\n",
        "from sklearn.svm import SVC\n",
        "from xgboost import XGBClassifier\n",
        "from sklearn.pipeline import Pipeline\n",
        "\n",
        "#X, y = load_breast_cancer(return_X_y= True)\n",
        "\n",
        "models_list =[DecisionTreeClassifier(),\n",
        "\t\tKNeighborsClassifier(),\n",
        "\t\tGaussianNB(),\n",
        "\t\tMLPClassifier(),\n",
        "              RandomForestClassifier(random_state = 0),\n",
        "              SVC(probability= True),\n",
        "              GaussianNB()]\n",
        "\n",
        "score_list = [\"accuracy\", \"f1-score\", \"precision\", \"recall\"]\n",
        "plt.barh(x,y)\n",
        "plt.xlabel(\"Values\")\n",
        "plt.ylabel('Categories')\n",
        "plt.title('Accuracy for Every Model')\n",
        "plt.show()\n",
        "\n",
        "\n",
        "#t = plot_cv_score(X = X, y = y, models_list = models_list, cv = 7, scoring_list = score_list, refit = True)"
      ],
      "metadata": {
        "colab": {
          "base_uri": "https://localhost:8080/",
          "height": 235
        },
        "id": "bs0gAUIW55PV",
        "outputId": "6e8860bd-9016-4521-e2f1-ff29f319f96b"
      },
      "execution_count": null,
      "outputs": [
        {
          "output_type": "error",
          "ename": "NameError",
          "evalue": "ignored",
          "traceback": [
            "\u001b[0;31m---------------------------------------------------------------------------\u001b[0m",
            "\u001b[0;31mNameError\u001b[0m                                 Traceback (most recent call last)",
            "\u001b[0;32m<ipython-input-83-ecdb85d9da27>\u001b[0m in \u001b[0;36m<module>\u001b[0;34m\u001b[0m\n\u001b[1;32m     20\u001b[0m \u001b[0;34m\u001b[0m\u001b[0m\n\u001b[1;32m     21\u001b[0m \u001b[0mscore_list\u001b[0m \u001b[0;34m=\u001b[0m \u001b[0;34m[\u001b[0m\u001b[0;34m\"accuracy\"\u001b[0m\u001b[0;34m,\u001b[0m \u001b[0;34m\"f1-score\"\u001b[0m\u001b[0;34m,\u001b[0m \u001b[0;34m\"precision\"\u001b[0m\u001b[0;34m,\u001b[0m \u001b[0;34m\"recall\"\u001b[0m\u001b[0;34m]\u001b[0m\u001b[0;34m\u001b[0m\u001b[0;34m\u001b[0m\u001b[0m\n\u001b[0;32m---> 22\u001b[0;31m \u001b[0mplt\u001b[0m\u001b[0;34m.\u001b[0m\u001b[0mbarh\u001b[0m\u001b[0;34m(\u001b[0m\u001b[0mx\u001b[0m\u001b[0;34m,\u001b[0m\u001b[0my\u001b[0m\u001b[0;34m)\u001b[0m\u001b[0;34m\u001b[0m\u001b[0;34m\u001b[0m\u001b[0m\n\u001b[0m\u001b[1;32m     23\u001b[0m \u001b[0mplt\u001b[0m\u001b[0;34m.\u001b[0m\u001b[0mxlabel\u001b[0m\u001b[0;34m(\u001b[0m\u001b[0;34m\"Values\"\u001b[0m\u001b[0;34m)\u001b[0m\u001b[0;34m\u001b[0m\u001b[0;34m\u001b[0m\u001b[0m\n\u001b[1;32m     24\u001b[0m \u001b[0mplt\u001b[0m\u001b[0;34m.\u001b[0m\u001b[0mylabel\u001b[0m\u001b[0;34m(\u001b[0m\u001b[0;34m'Categories'\u001b[0m\u001b[0;34m)\u001b[0m\u001b[0;34m\u001b[0m\u001b[0;34m\u001b[0m\u001b[0m\n",
            "\u001b[0;31mNameError\u001b[0m: name 'x' is not defined"
          ]
        }
      ]
    },
    {
      "cell_type": "markdown",
      "source": [
        "## B. Feature Importance High Accuracy Model\n",
        "\n"
      ],
      "metadata": {
        "id": "4lQqre7tlcVZ"
      }
    },
    {
      "cell_type": "markdown",
      "source": [
        "## Test Highest Model"
      ],
      "metadata": {
        "id": "MgOIFRTI4tLx"
      }
    },
    {
      "cell_type": "markdown",
      "source": [
        "### FI on RF"
      ],
      "metadata": {
        "id": "QEo9sFSVxHa4"
      }
    },
    {
      "cell_type": "code",
      "source": [
        "model_rf.feature_importances_"
      ],
      "metadata": {
        "colab": {
          "base_uri": "https://localhost:8080/"
        },
        "id": "3_AS1ZQolndb",
        "outputId": "18838f83-b1e9-4767-f6bf-8926b31ac204"
      },
      "execution_count": null,
      "outputs": [
        {
          "output_type": "execute_result",
          "data": {
            "text/plain": [
              "array([0.00506065, 0.20571568, 0.09715737, 0.01104748, 0.06172485,\n",
              "       0.00871467, 0.22794792, 0.02708364, 0.00504948, 0.16781174,\n",
              "       0.03687536, 0.01219348, 0.12584608, 0.00208204, 0.00568956,\n",
              "       0.        ])"
            ]
          },
          "metadata": {},
          "execution_count": 84
        }
      ]
    },
    {
      "cell_type": "code",
      "source": [
        "import numpy as np\n",
        " \n",
        "importances = model_rf.feature_importances_\n",
        "#\n",
        "# Sort the feature importance in descending order\n",
        "#\n",
        "sorted_indices = np.argsort(importances)[::-1]\n",
        "\n",
        "import matplotlib.pyplot as plt\n",
        " \n",
        "plt.title('Feature Importance Random Forest')\n",
        "plt.bar(range(X_train.shape[1]), importances[sorted_indices], align='center')\n",
        "plt.xticks(range(X_train.shape[1]), X_train.columns[sorted_indices], rotation=90)\n",
        "plt.tight_layout()\n",
        "plt.show()"
      ],
      "metadata": {
        "id": "GJwrG1ZLmRri",
        "outputId": "fed42f40-fb4e-488e-9d45-7fb9a42faa4c",
        "colab": {
          "base_uri": "https://localhost:8080/",
          "height": 369
        }
      },
      "execution_count": null,
      "outputs": [
        {
          "output_type": "display_data",
          "data": {
            "text/plain": [
              "<Figure size 576x360 with 1 Axes>"
            ],
            "image/png": "[encoded data removed]"
          },
          "metadata": {
            "needs_background": "light"
          }
        }
      ]
    },
    {
      "cell_type": "markdown",
      "source": [
        "### FI on DT"
      ],
      "metadata": {
        "id": "ZPTH_fgsxPZp"
      }
    },
    {
      "cell_type": "code",
      "source": [
        "model_dt.feature_importances_"
      ],
      "metadata": {
        "colab": {
          "base_uri": "https://localhost:8080/"
        },
        "outputId": "e1e198b3-1eba-4036-dde8-a6c37f2d0626",
        "id": "uBCnEEtMxPZp"
      },
      "execution_count": null,
      "outputs": [
        {
          "output_type": "execute_result",
          "data": {
            "text/plain": [
              "array([0.        , 0.1999367 , 0.        , 0.        , 0.01589667,\n",
              "       0.02195604, 0.00977303, 0.01059778, 0.        , 0.69712639,\n",
              "       0.00242584, 0.        , 0.01624215, 0.02604539, 0.        ,\n",
              "       0.        ])"
            ]
          },
          "metadata": {},
          "execution_count": 87
        }
      ]
    },
    {
      "cell_type": "code",
      "source": [
        "import numpy as np\n",
        " \n",
        "importances = model_dt.feature_importances_\n",
        "#\n",
        "# Sort the feature importance in descending order\n",
        "#\n",
        "sorted_indices = np.argsort(importances)[::-1]\n",
        " \n",
        "feat_labels = df.columns[1:]\n",
        " \n",
        "for f in range(X_train.shape[1]):\n",
        "    print(\"%2d) %-*s %f\" % (f + 1, 30,\n",
        "                            feat_labels[sorted_indices[f]],\n",
        "                            importances[sorted_indices[f]]))"
      ],
      "metadata": {
        "colab": {
          "base_uri": "https://localhost:8080/"
        },
        "outputId": "ed29a9ab-64b0-453e-e462-d6a3edd8643e",
        "id": "L_GljrQHxPZq"
      },
      "execution_count": null,
      "outputs": [
        {
          "output_type": "stream",
          "name": "stdout",
          "text": [
            " 1) packed_cell_volume             0.697126\n",
            " 2) albumin                        0.199937\n",
            " 3) pedal_edema                    0.026045\n",
            " 4) serum_creatinine               0.021956\n",
            " 5) hypertension                   0.016242\n",
            " 6) blood_urea                     0.015897\n",
            " 7) potassium                      0.010598\n",
            " 8) sodium                         0.009773\n",
            " 9) white_blood_cell_count         0.002426\n",
            "10) class                          0.000000\n",
            "11) anemia                         0.000000\n",
            "12) red_blood_cell_count           0.000000\n",
            "13) haemoglobin                    0.000000\n",
            "14) blood_glucose_random           0.000000\n",
            "15) sulfonylurea                   0.000000\n",
            "16) specific_gravity               0.000000\n"
          ]
        }
      ]
    },
    {
      "cell_type": "code",
      "source": [
        "import numpy as np\n",
        " \n",
        "importances = model_dt.feature_importances_\n",
        "#\n",
        "# Sort the feature importance in descending order\n",
        "#\n",
        "sorted_indices = np.argsort(importances)[::-1]\n",
        "\n",
        "import matplotlib.pyplot as plt\n",
        " \n",
        "plt.title('Feature Importance Decision Tree')\n",
        "plt.bar(range(X_train.shape[1]), importances[sorted_indices], align='center')\n",
        "plt.xticks(range(X_train.shape[1]), X_train.columns[sorted_indices], rotation=90)\n",
        "plt.tight_layout()\n",
        "plt.show()"
      ],
      "metadata": {
        "outputId": "f81dd764-1a5b-4d83-db96-c7220cc3e004",
        "colab": {
          "base_uri": "https://localhost:8080/",
          "height": 369
        },
        "id": "U9mnQ1WMxPZr"
      },
      "execution_count": null,
      "outputs": [
        {
          "output_type": "display_data",
          "data": {
            "text/plain": [
              "<Figure size 576x360 with 1 Axes>"
            ],
            "image/png": "[encoded data removed]"
          },
          "metadata": {
            "needs_background": "light"
          }
        }
      ]
    },
    {
      "cell_type": "markdown",
      "source": [
        "### FI on XGB"
      ],
      "metadata": {
        "id": "CGMz4_XXuqVJ"
      }
    },
    {
      "cell_type": "code",
      "source": [
        "model_xgb.feature_importances_"
      ],
      "metadata": {
        "colab": {
          "base_uri": "https://localhost:8080/"
        },
        "outputId": "81b193a8-4141-4b90-f9f7-32d7f523b382",
        "id": "tNuensFzuqVJ"
      },
      "execution_count": null,
      "outputs": [
        {
          "output_type": "execute_result",
          "data": {
            "text/plain": [
              "array([0.        , 0.2908242 , 0.12790804, 0.        , 0.01551084,\n",
              "       0.00723647, 0.03180644, 0.03709164, 0.02449836, 0.42771423,\n",
              "       0.00681133, 0.00214149, 0.02845696, 0.        , 0.        ,\n",
              "       0.        ], dtype=float32)"
            ]
          },
          "metadata": {},
          "execution_count": 90
        }
      ]
    },
    {
      "cell_type": "code",
      "source": [
        "import numpy as np\n",
        " \n",
        "importances = model_xgb.feature_importances_\n",
        "#\n",
        "# Sort the feature importance in descending order\n",
        "#\n",
        "sorted_indices = np.argsort(importances)[::-1]\n",
        " \n",
        "feat_labels = df.columns[1:]\n",
        " \n",
        "for f in range(X_train.shape[1]):\n",
        "    print(\"%2d) %-*s %f\" % (f + 1, 30,\n",
        "                            feat_labels[sorted_indices[f]],\n",
        "                            importances[sorted_indices[f]]))"
      ],
      "metadata": {
        "colab": {
          "base_uri": "https://localhost:8080/"
        },
        "outputId": "da2f8f19-30de-4345-b79f-2ab17e47b573",
        "id": "czQD3b9PuqVK"
      },
      "execution_count": null,
      "outputs": [
        {
          "output_type": "stream",
          "name": "stdout",
          "text": [
            " 1) packed_cell_volume             0.427714\n",
            " 2) albumin                        0.290824\n",
            " 3) sulfonylurea                   0.127908\n",
            " 4) potassium                      0.037092\n",
            " 5) sodium                         0.031806\n",
            " 6) hypertension                   0.028457\n",
            " 7) haemoglobin                    0.024498\n",
            " 8) blood_urea                     0.015511\n",
            " 9) serum_creatinine               0.007236\n",
            "10) white_blood_cell_count         0.006811\n",
            "11) red_blood_cell_count           0.002141\n",
            "12) class                          0.000000\n",
            "13) anemia                         0.000000\n",
            "14) pedal_edema                    0.000000\n",
            "15) blood_glucose_random           0.000000\n",
            "16) specific_gravity               0.000000\n"
          ]
        }
      ]
    },
    {
      "cell_type": "code",
      "source": [
        "import numpy as np\n",
        " \n",
        "importances = model_xgb.feature_importances_\n",
        "#\n",
        "# Sort the feature importance in descending order\n",
        "#\n",
        "sorted_indices = np.argsort(importances)[::-1]\n",
        "\n",
        "import matplotlib.pyplot as plt\n",
        " \n",
        "plt.title('Feature Importance XGBoost')\n",
        "plt.bar(range(X_train.shape[1]), importances[sorted_indices], align='center')\n",
        "plt.xticks(range(X_train.shape[1]), X_train.columns[sorted_indices], rotation=90)\n",
        "plt.tight_layout()\n",
        "plt.show()"
      ],
      "metadata": {
        "outputId": "043253d0-2198-4bc2-a5c0-b4f134136f70",
        "colab": {
          "base_uri": "https://localhost:8080/",
          "height": 369
        },
        "id": "e6vFXgCUuqVL"
      },
      "execution_count": null,
      "outputs": [
        {
          "output_type": "display_data",
          "data": {
            "text/plain": [
              "<Figure size 576x360 with 1 Axes>"
            ],
            "image/png": "[encoded data removed]"
          },
          "metadata": {
            "needs_background": "light"
          }
        }
      ]
    },
    {
      "cell_type": "code",
      "source": [
        "X_test[0:1]"
      ],
      "metadata": {
        "colab": {
          "base_uri": "https://localhost:8080/",
          "height": 144
        },
        "id": "438C-jkp4wt6",
        "outputId": "b2459460-7368-492d-d863-179bb5e3589b"
      },
      "execution_count": null,
      "outputs": [
        {
          "output_type": "execute_result",
          "data": {
            "text/plain": [
              "     blood_pressure  specific_gravity  albumin  sulfonylurea  \\\n",
              "209            70.0              1.02      0.0           0.0   \n",
              "\n",
              "     blood_glucose_random  blood_urea  serum_creatinine      sodium  \\\n",
              "209            148.036517   57.425722          3.072454  137.528754   \n",
              "\n",
              "     potassium  haemoglobin  packed_cell_volume  white_blood_cell_count  \\\n",
              "209   4.627244         11.5           38.884498                  6900.0   \n",
              "\n",
              "     red_blood_cell_count  hypertension  pedal_edema  anemia  \n",
              "209              4.707435             0            0       0  "
            ],
            "text/html": [
              "\n",
              "  <div id=\"df-dd603bec-c3ec-4667-b1ae-a77a39bd40f9\">\n",
              "    <div class=\"colab-df-container\">\n",
              "      <div>\n",
              "<style scoped>\n",
              "    .dataframe tbody tr th:only-of-type {\n",
              "        vertical-align: middle;\n",
              "    }\n",
              "\n",
              "    .dataframe tbody tr th {\n",
              "        vertical-align: top;\n",
              "    }\n",
              "\n",
              "    .dataframe thead th {\n",
              "        text-align: right;\n",
              "    }\n",
              "</style>\n",
              "<table border=\"1\" class=\"dataframe\">\n",
              "  <thead>\n",
              "    <tr style=\"text-align: right;\">\n",
              "      <th></th>\n",
              "      <th>blood_pressure</th>\n",
              "      <th>specific_gravity</th>\n",
              "      <th>albumin</th>\n",
              "      <th>sulfonylurea</th>\n",
              "      <th>blood_glucose_random</th>\n",
              "      <th>blood_urea</th>\n",
              "      <th>serum_creatinine</th>\n",
              "      <th>sodium</th>\n",
              "      <th>potassium</th>\n",
              "      <th>haemoglobin</th>\n",
              "      <th>packed_cell_volume</th>\n",
              "      <th>white_blood_cell_count</th>\n",
              "      <th>red_blood_cell_count</th>\n",
              "      <th>hypertension</th>\n",
              "      <th>pedal_edema</th>\n",
              "      <th>anemia</th>\n",
              "    </tr>\n",
              "  </thead>\n",
              "  <tbody>\n",
              "    <tr>\n",
              "      <th>209</th>\n",
              "      <td>70.0</td>\n",
              "      <td>1.02</td>\n",
              "      <td>0.0</td>\n",
              "      <td>0.0</td>\n",
              "      <td>148.036517</td>\n",
              "      <td>57.425722</td>\n",
              "      <td>3.072454</td>\n",
              "      <td>137.528754</td>\n",
              "      <td>4.627244</td>\n",
              "      <td>11.5</td>\n",
              "      <td>38.884498</td>\n",
              "      <td>6900.0</td>\n",
              "      <td>4.707435</td>\n",
              "      <td>0</td>\n",
              "      <td>0</td>\n",
              "      <td>0</td>\n",
              "    </tr>\n",
              "  </tbody>\n",
              "</table>\n",
              "</div>\n",
              "      <button class=\"colab-df-convert\" onclick=\"convertToInteractive('df-dd603bec-c3ec-4667-b1ae-a77a39bd40f9')\"\n",
              "              title=\"Convert this dataframe to an interactive table.\"\n",
              "              style=\"display:none;\">\n",
              "        \n",
              "  <svg xmlns=\"http://www.w3.org/2000/svg\" height=\"24px\"viewBox=\"0 0 24 24\"\n",
              "       width=\"24px\">\n",
              "    <path d=\"M0 0h24v24H0V0z\" fill=\"none\"/>\n",
              "    <path d=\"M18.56 5.44l.94 2.06.94-2.06 2.06-.94-2.06-.94-.94-2.06-.94 2.06-2.06.94zm-11 1L8.5 8.5l.94-2.06 2.06-.94-2.06-.94L8.5 2.5l-.94 2.06-2.06.94zm10 10l.94 2.06.94-2.06 2.06-.94-2.06-.94-.94-2.06-.94 2.06-2.06.94z\"/><path d=\"M17.41 7.96l-1.37-1.37c-.4-.4-.92-.59-1.43-.59-.52 0-1.04.2-1.43.59L10.3 9.45l-7.72 7.72c-.78.78-.78 2.05 0 2.83L4 21.41c.39.39.9.59 1.41.59.51 0 1.02-.2 1.41-.59l7.78-7.78 2.81-2.81c.8-.78.8-2.07 0-2.86zM5.41 20L4 18.59l7.72-7.72 1.47 1.35L5.41 20z\"/>\n",
              "  </svg>\n",
              "      </button>\n",
              "      \n",
              "  <style>\n",
              "    .colab-df-container {\n",
              "      display:flex;\n",
              "      flex-wrap:wrap;\n",
              "      gap: 12px;\n",
              "    }\n",
              "\n",
              "    .colab-df-convert {\n",
              "      background-color: #E8F0FE;\n",
              "      border: none;\n",
              "      border-radius: 50%;\n",
              "      cursor: pointer;\n",
              "      display: none;\n",
              "      fill: #1967D2;\n",
              "      height: 32px;\n",
              "      padding: 0 0 0 0;\n",
              "      width: 32px;\n",
              "    }\n",
              "\n",
              "    .colab-df-convert:hover {\n",
              "      background-color: #E2EBFA;\n",
              "      box-shadow: 0px 1px 2px rgba(60, 64, 67, 0.3), 0px 1px 3px 1px rgba(60, 64, 67, 0.15);\n",
              "      fill: #174EA6;\n",
              "    }\n",
              "\n",
              "    [theme=dark] .colab-df-convert {\n",
              "      background-color: #3B4455;\n",
              "      fill: #D2E3FC;\n",
              "    }\n",
              "\n",
              "    [theme=dark] .colab-df-convert:hover {\n",
              "      background-color: #434B5C;\n",
              "      box-shadow: 0px 1px 3px 1px rgba(0, 0, 0, 0.15);\n",
              "      filter: drop-shadow(0px 1px 2px rgba(0, 0, 0, 0.3));\n",
              "      fill: #FFFFFF;\n",
              "    }\n",
              "  </style>\n",
              "\n",
              "      <script>\n",
              "        const buttonEl =\n",
              "          document.querySelector('#df-dd603bec-c3ec-4667-b1ae-a77a39bd40f9 button.colab-df-convert');\n",
              "        buttonEl.style.display =\n",
              "          google.colab.kernel.accessAllowed ? 'block' : 'none';\n",
              "\n",
              "        async function convertToInteractive(key) {\n",
              "          const element = document.querySelector('#df-dd603bec-c3ec-4667-b1ae-a77a39bd40f9');\n",
              "          const dataTable =\n",
              "            await google.colab.kernel.invokeFunction('convertToInteractive',\n",
              "                                                     [key], {});\n",
              "          if (!dataTable) return;\n",
              "\n",
              "          const docLinkHtml = 'Like what you see? Visit the ' +\n",
              "            '<a target=\"_blank\" href=https://colab.research.google.com/notebooks/data_table.ipynb>data table notebook</a>'\n",
              "            + ' to learn more about interactive tables.';\n",
              "          element.innerHTML = '';\n",
              "          dataTable['output_type'] = 'display_data';\n",
              "          await google.colab.output.renderOutput(dataTable, element);\n",
              "          const docLink = document.createElement('div');\n",
              "          docLink.innerHTML = docLinkHtml;\n",
              "          element.appendChild(docLink);\n",
              "        }\n",
              "      </script>\n",
              "    </div>\n",
              "  </div>\n",
              "  "
            ]
          },
          "metadata": {},
          "execution_count": 93
        }
      ]
    },
    {
      "cell_type": "code",
      "source": [
        "data = [[70.0, 1.02,\t0.0,\t0.0,\t148.036517,\t57.425722,\t3.072454,\t137.528754,\t\n",
        "         4.627244,\t11.5,\t38.884498,\t6900.0,\t4.707435,\t0, 0, 0]]\n",
        "\n",
        "model_rf.predict(data)\n",
        "\n"
      ],
      "metadata": {
        "colab": {
          "base_uri": "https://localhost:8080/"
        },
        "id": "YaXKfjup4y44",
        "outputId": "cb1a3ff5-ada0-4aa2-dad0-8739771612a2"
      },
      "execution_count": null,
      "outputs": [
        {
          "output_type": "execute_result",
          "data": {
            "text/plain": [
              "array([0])"
            ]
          },
          "metadata": {},
          "execution_count": 95
        }
      ]
    }
  ]
}